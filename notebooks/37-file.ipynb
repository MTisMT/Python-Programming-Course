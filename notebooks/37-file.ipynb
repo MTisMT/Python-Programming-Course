{
 "cells": [
  {
   "cell_type": "markdown",
   "metadata": {},
   "source": [
    "<h2 dir=rtl>\n",
    "فایل‌ها\n",
    "</h2>"
   ]
  },
  {
   "cell_type": "markdown",
   "metadata": {},
   "source": [
    "<div dir=rtl>\n",
    "برای باز کردن فایل از دستور\n",
    "<code>open</code>\n",
    "استفاده می‌کنیم. هر فایل‌را در حالت‌های مختلفی می‌توان باز کرد.\n",
    "فایل در حالت خوانی با\n",
    "<code>r</code>\n",
    "باز می‌شود. حالت\n",
    "<code>w</code>\n",
    "به معنای باز کردن فایل در حالت نوشتن است. اگر فایل از قبل موجود باشد، تمام محتوای پیشین از بین می‌رود.\n",
    "حالت\n",
    "<code>a</code>\n",
    "فایل را برای اضافه کردن محتوا به انتهای آن باز می‌کند.\n",
    "</div>"
   ]
  },
  {
   "cell_type": "code",
   "execution_count": 3,
   "metadata": {},
   "outputs": [
    {
     "name": "stdout",
     "output_type": "stream",
     "text": [
      "./files/sample.txt\n",
      "r\n"
     ]
    }
   ],
   "source": [
    "f = open(\"./files/sample.txt\", 'r')\n",
    "print(f.name)\n",
    "print(f.mode)\n",
    "f.close()"
   ]
  },
  {
   "cell_type": "markdown",
   "metadata": {},
   "source": [
    "<div dir=rtl>\n",
    "در پایتون به صورت بالا کد نمی‌زنیم. زیرا ممکن است فراموش کنیم که بعد از خواندن فایل آن را ببندیم. در این حالت از دستور\n",
    "<code>with</code>\n",
    "استفاده می‌کنیم. اگر به هر دلیلی خطایی در برنامه رخ دهد، خود به خود فایل بسته خواهد شد.\n",
    "</div>"
   ]
  },
  {
   "cell_type": "code",
   "execution_count": 6,
   "metadata": {},
   "outputs": [
    {
     "name": "stdout",
     "output_type": "stream",
     "text": [
      "./files/sample.txt\n",
      "r\n"
     ]
    }
   ],
   "source": [
    "with open(\"./files/sample.txt\", 'r') as f:\n",
    "    print(f.name)\n",
    "    print(f.mode)"
   ]
  },
  {
   "cell_type": "markdown",
   "metadata": {},
   "source": [
    "<div dir=rtl>\n",
    "برای خواندن یک فایل دستورات متفاوتی وجود دارد. دستور\n",
    "<code>read</code>\n",
    "زمانی به کار می‌رود که می‌خواهیم کل محتوای فایل را به یک باره بخوانیم.\n",
    "</div>"
   ]
  },
  {
   "cell_type": "code",
   "execution_count": 7,
   "metadata": {},
   "outputs": [
    {
     "name": "stdout",
     "output_type": "stream",
     "text": [
      "1) Alireza Aghamohammadi\n",
      "2) Sina Hajimiri\n",
      "3) Rassa Ghavami\n",
      "4) Parishad BehnamGhader\n",
      "5) Mohammad Ostadmohammadi\n",
      "6) Amir Dalili\n",
      "7) Mohammad Mahdi Samiei\n",
      "8) Ali Karimi\n",
      "9) Soorena Salari\n",
      "10) Faezeh Ghorbanpour\n"
     ]
    }
   ],
   "source": [
    "with open(\"./files/sample.txt\", 'r') as f:\n",
    "    fc = f.read()\n",
    "    print(fc)"
   ]
  },
  {
   "cell_type": "markdown",
   "metadata": {},
   "source": [
    "<div dir=rtl>\n",
    "می‌توانیم محتوای فایل را به صورت یک لیست بخوانیم که هر خط فایل معادل یک عضو از لیست می‌شود.\n",
    "</div>"
   ]
  },
  {
   "cell_type": "code",
   "execution_count": 9,
   "metadata": {},
   "outputs": [
    {
     "name": "stdout",
     "output_type": "stream",
     "text": [
      "1) Alireza Aghamohammadi\n",
      "\n",
      "['4) Parishad BehnamGhader\\n', '5) Mohammad Ostadmohammadi\\n']\n"
     ]
    }
   ],
   "source": [
    "with open(\"./files/sample.txt\", 'r') as f:\n",
    "    fc = f.readlines()\n",
    "    print(fc[0])\n",
    "    print(fc[3:5])"
   ]
  },
  {
   "cell_type": "markdown",
   "metadata": {},
   "source": [
    "<div dir=rtl>\n",
    "در صورتی که حجم فایل زیاد باشد، خواندن یک باره فایل مقرون به صرفه نیست. در این صورت می‌توان خط به خط یک فایل را خواند.\n",
    "</div>"
   ]
  },
  {
   "cell_type": "code",
   "execution_count": 11,
   "metadata": {},
   "outputs": [
    {
     "name": "stdout",
     "output_type": "stream",
     "text": [
      "1) Alireza Aghamohammadi\n",
      "2) Sina Hajimiri\n"
     ]
    }
   ],
   "source": [
    "with open(\"./files/sample.txt\", 'r') as f:\n",
    "    fc = f.readline()\n",
    "    print(fc, end=\"\")\n",
    "    fc = f.readline()\n",
    "    print(fc, end=\"\")"
   ]
  },
  {
   "cell_type": "markdown",
   "metadata": {},
   "source": [
    "<div dir=rtl>\n",
    "یک راه بهتر، استفاده از حلقه در خواندن فایل است.\n",
    "</div>"
   ]
  },
  {
   "cell_type": "code",
   "execution_count": 12,
   "metadata": {},
   "outputs": [
    {
     "name": "stdout",
     "output_type": "stream",
     "text": [
      "1) Alireza Aghamohammadi\n",
      "2) Sina Hajimiri\n",
      "3) Rassa Ghavami\n",
      "4) Parishad BehnamGhader\n",
      "5) Mohammad Ostadmohammadi\n",
      "6) Amir Dalili\n",
      "7) Mohammad Mahdi Samiei\n",
      "8) Ali Karimi\n",
      "9) Soorena Salari\n",
      "10) Faezeh Ghorbanpour"
     ]
    }
   ],
   "source": [
    "with open(\"./files/sample.txt\", 'r') as f:\n",
    "    for line in f:\n",
    "        print(line, end='')"
   ]
  },
  {
   "cell_type": "markdown",
   "metadata": {},
   "source": [
    "<div dir=rtl>\n",
    "پیش‌تر در مورد دستور\n",
    "<code>read</code>\n",
    "صحبت کردیم. این دستور به عنوان ورودی تعداد کاراکترهای مورد نیاز برای خواندن را دریافت می‌کند.\n",
    "</div>"
   ]
  },
  {
   "cell_type": "code",
   "execution_count": 17,
   "metadata": {},
   "outputs": [
    {
     "name": "stdout",
     "output_type": "stream",
     "text": [
      "1) Alireza Aghamoham|madi\n",
      "2) Sina Hajimir|"
     ]
    }
   ],
   "source": [
    "with open(\"./files/sample.txt\", 'r') as f:\n",
    "    chunk_size = 20\n",
    "    fc = f.read(chunk_size)\n",
    "    print(fc, end=\"|\")\n",
    "    fc = f.read(chunk_size)\n",
    "    print(fc, end=\"|\")"
   ]
  },
  {
   "cell_type": "markdown",
   "metadata": {},
   "source": [
    "<div dir=rtl>\n",
    "با استفاده از دستور\n",
    "<code>write</code>\n",
    "می‌توانیم در یک فایل بنویسیم.\n",
    "</div>"
   ]
  },
  {
   "cell_type": "code",
   "execution_count": 18,
   "metadata": {},
   "outputs": [],
   "source": [
    "with open(\"./files/sample_copy.txt\", 'w') as f:\n",
    "    f.write('Test')"
   ]
  },
  {
   "cell_type": "markdown",
   "metadata": {},
   "source": [
    "<div dir=rtl>\n",
    "<b>سوال:</b>\n",
    "    برنامه‌ای بنویسید که یک کپی از فایل مورد نظر ایجاد کند.\n",
    "</div>"
   ]
  },
  {
   "cell_type": "code",
   "execution_count": 21,
   "metadata": {},
   "outputs": [],
   "source": [
    "with open(\"./files/sample.txt\", 'r') as rf:\n",
    "    with open(\"./files/sample_copy.txt\",'w') as wf:\n",
    "        for line in rf:\n",
    "            wf.write(line)"
   ]
  },
  {
   "cell_type": "code",
   "execution_count": null,
   "metadata": {},
   "outputs": [],
   "source": []
  }
 ],
 "metadata": {
  "kernelspec": {
   "display_name": "Python 3",
   "language": "python",
   "name": "python3"
  },
  "language_info": {
   "codemirror_mode": {
    "name": "ipython",
    "version": 3
   },
   "file_extension": ".py",
   "mimetype": "text/x-python",
   "name": "python",
   "nbconvert_exporter": "python",
   "pygments_lexer": "ipython3",
   "version": "3.7.3"
  }
 },
 "nbformat": 4,
 "nbformat_minor": 4
}
