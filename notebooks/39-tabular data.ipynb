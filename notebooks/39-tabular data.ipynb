{
 "cells": [
  {
   "cell_type": "markdown",
   "metadata": {},
   "source": [
    "<h2 dir=rtl>\n",
    "داده‌های جدولی\n",
    "</h2>"
   ]
  },
  {
   "cell_type": "code",
   "execution_count": 1,
   "metadata": {},
   "outputs": [],
   "source": [
    "import pandas as pd\n",
    "import matplotlib.pyplot as plt\n",
    "%matplotlib inline\n",
    "plt.style.use(\"ggplot\")"
   ]
  },
  {
   "cell_type": "code",
   "execution_count": 2,
   "metadata": {},
   "outputs": [],
   "source": [
    "PATH = \"./files/\""
   ]
  },
  {
   "cell_type": "code",
   "execution_count": 3,
   "metadata": {},
   "outputs": [],
   "source": [
    "grades = pd.read_excel(PATH + \"SE_SP19_GRADES.xlsx\", header = None, skiprows=2)"
   ]
  },
  {
   "cell_type": "code",
   "execution_count": 4,
   "metadata": {},
   "outputs": [
    {
     "data": {
      "text/plain": [
       "(31, 11)"
      ]
     },
     "execution_count": 4,
     "metadata": {},
     "output_type": "execute_result"
    }
   ],
   "source": [
    "grades.shape"
   ]
  },
  {
   "cell_type": "code",
   "execution_count": 5,
   "metadata": {},
   "outputs": [],
   "source": [
    "grades.columns = ['std_id',\n",
    "                  'midterm1',\n",
    "                  'mid1_out_of_100',\n",
    "                  'midterm2',\n",
    "                  'midterm3',\n",
    "                  'final',\n",
    "                  'class_score',\n",
    "                  'quiz1',\n",
    "                  'quiz2',\n",
    "                  'project',\n",
    "                  'total']"
   ]
  },
  {
   "cell_type": "code",
   "execution_count": 6,
   "metadata": {},
   "outputs": [
    {
     "data": {
      "text/html": [
       "<div>\n",
       "<style scoped>\n",
       "    .dataframe tbody tr th:only-of-type {\n",
       "        vertical-align: middle;\n",
       "    }\n",
       "\n",
       "    .dataframe tbody tr th {\n",
       "        vertical-align: top;\n",
       "    }\n",
       "\n",
       "    .dataframe thead th {\n",
       "        text-align: right;\n",
       "    }\n",
       "</style>\n",
       "<table border=\"1\" class=\"dataframe\">\n",
       "  <thead>\n",
       "    <tr style=\"text-align: right;\">\n",
       "      <th></th>\n",
       "      <th>std_id</th>\n",
       "      <th>midterm1</th>\n",
       "      <th>mid1_out_of_100</th>\n",
       "      <th>midterm2</th>\n",
       "      <th>midterm3</th>\n",
       "      <th>final</th>\n",
       "      <th>class_score</th>\n",
       "      <th>quiz1</th>\n",
       "      <th>quiz2</th>\n",
       "      <th>project</th>\n",
       "      <th>total</th>\n",
       "    </tr>\n",
       "  </thead>\n",
       "  <tbody>\n",
       "    <tr>\n",
       "      <th>0</th>\n",
       "      <td>93101287</td>\n",
       "      <td>39.84</td>\n",
       "      <td>72.65</td>\n",
       "      <td>20.0</td>\n",
       "      <td>13.0</td>\n",
       "      <td>72.0</td>\n",
       "      <td>12.0</td>\n",
       "      <td>NaN</td>\n",
       "      <td>NaN</td>\n",
       "      <td>5.400000</td>\n",
       "      <td>13.492216</td>\n",
       "    </tr>\n",
       "    <tr>\n",
       "      <th>1</th>\n",
       "      <td>93102923</td>\n",
       "      <td>NaN</td>\n",
       "      <td>NaN</td>\n",
       "      <td>22.0</td>\n",
       "      <td>15.0</td>\n",
       "      <td>74.0</td>\n",
       "      <td>9.0</td>\n",
       "      <td>NaN</td>\n",
       "      <td>NaN</td>\n",
       "      <td>NaN</td>\n",
       "      <td>6.849925</td>\n",
       "    </tr>\n",
       "    <tr>\n",
       "      <th>2</th>\n",
       "      <td>93111009</td>\n",
       "      <td>50.78</td>\n",
       "      <td>83.59</td>\n",
       "      <td>20.0</td>\n",
       "      <td>13.0</td>\n",
       "      <td>72.0</td>\n",
       "      <td>12.0</td>\n",
       "      <td>NaN</td>\n",
       "      <td>NaN</td>\n",
       "      <td>5.484906</td>\n",
       "      <td>13.795921</td>\n",
       "    </tr>\n",
       "    <tr>\n",
       "      <th>3</th>\n",
       "      <td>94101794</td>\n",
       "      <td>40.63</td>\n",
       "      <td>73.44</td>\n",
       "      <td>NaN</td>\n",
       "      <td>NaN</td>\n",
       "      <td>NaN</td>\n",
       "      <td>NaN</td>\n",
       "      <td>50.0</td>\n",
       "      <td>NaN</td>\n",
       "      <td>NaN</td>\n",
       "      <td>NaN</td>\n",
       "    </tr>\n",
       "    <tr>\n",
       "      <th>4</th>\n",
       "      <td>94102047</td>\n",
       "      <td>65.63</td>\n",
       "      <td>98.44</td>\n",
       "      <td>24.0</td>\n",
       "      <td>15.0</td>\n",
       "      <td>73.5</td>\n",
       "      <td>34.0</td>\n",
       "      <td>70.0</td>\n",
       "      <td>100.0</td>\n",
       "      <td>6.062264</td>\n",
       "      <td>17.693244</td>\n",
       "    </tr>\n",
       "  </tbody>\n",
       "</table>\n",
       "</div>"
      ],
      "text/plain": [
       "     std_id  midterm1  mid1_out_of_100  midterm2  midterm3  final  \\\n",
       "0  93101287     39.84            72.65      20.0      13.0   72.0   \n",
       "1  93102923       NaN              NaN      22.0      15.0   74.0   \n",
       "2  93111009     50.78            83.59      20.0      13.0   72.0   \n",
       "3  94101794     40.63            73.44       NaN       NaN    NaN   \n",
       "4  94102047     65.63            98.44      24.0      15.0   73.5   \n",
       "\n",
       "   class_score  quiz1  quiz2   project      total  \n",
       "0         12.0    NaN    NaN  5.400000  13.492216  \n",
       "1          9.0    NaN    NaN       NaN   6.849925  \n",
       "2         12.0    NaN    NaN  5.484906  13.795921  \n",
       "3          NaN   50.0    NaN       NaN        NaN  \n",
       "4         34.0   70.0  100.0  6.062264  17.693244  "
      ]
     },
     "execution_count": 6,
     "metadata": {},
     "output_type": "execute_result"
    }
   ],
   "source": [
    "grades.head()"
   ]
  },
  {
   "cell_type": "code",
   "execution_count": 7,
   "metadata": {},
   "outputs": [
    {
     "name": "stdout",
     "output_type": "stream",
     "text": [
      "<class 'pandas.core.frame.DataFrame'>\n",
      "RangeIndex: 31 entries, 0 to 30\n",
      "Data columns (total 11 columns):\n",
      "std_id             30 non-null object\n",
      "midterm1           29 non-null float64\n",
      "mid1_out_of_100    29 non-null float64\n",
      "midterm2           29 non-null float64\n",
      "midterm3           29 non-null float64\n",
      "final              29 non-null float64\n",
      "class_score        28 non-null float64\n",
      "quiz1              21 non-null float64\n",
      "quiz2              23 non-null float64\n",
      "project            28 non-null float64\n",
      "total              29 non-null float64\n",
      "dtypes: float64(10), object(1)\n",
      "memory usage: 2.7+ KB\n"
     ]
    }
   ],
   "source": [
    "grades.info()"
   ]
  },
  {
   "cell_type": "code",
   "execution_count": 8,
   "metadata": {},
   "outputs": [
    {
     "data": {
      "text/html": [
       "<div>\n",
       "<style scoped>\n",
       "    .dataframe tbody tr th:only-of-type {\n",
       "        vertical-align: middle;\n",
       "    }\n",
       "\n",
       "    .dataframe tbody tr th {\n",
       "        vertical-align: top;\n",
       "    }\n",
       "\n",
       "    .dataframe thead th {\n",
       "        text-align: right;\n",
       "    }\n",
       "</style>\n",
       "<table border=\"1\" class=\"dataframe\">\n",
       "  <thead>\n",
       "    <tr style=\"text-align: right;\">\n",
       "      <th></th>\n",
       "      <th>midterm1</th>\n",
       "      <th>mid1_out_of_100</th>\n",
       "      <th>midterm2</th>\n",
       "      <th>midterm3</th>\n",
       "      <th>final</th>\n",
       "      <th>class_score</th>\n",
       "      <th>quiz1</th>\n",
       "      <th>quiz2</th>\n",
       "      <th>project</th>\n",
       "      <th>total</th>\n",
       "    </tr>\n",
       "  </thead>\n",
       "  <tbody>\n",
       "    <tr>\n",
       "      <th>count</th>\n",
       "      <td>29.000000</td>\n",
       "      <td>29.000000</td>\n",
       "      <td>29.000000</td>\n",
       "      <td>29.000000</td>\n",
       "      <td>29.000000</td>\n",
       "      <td>28.000000</td>\n",
       "      <td>21.000000</td>\n",
       "      <td>23.000000</td>\n",
       "      <td>28.000000</td>\n",
       "      <td>29.000000</td>\n",
       "    </tr>\n",
       "    <tr>\n",
       "      <th>mean</th>\n",
       "      <td>47.694072</td>\n",
       "      <td>80.504072</td>\n",
       "      <td>21.628810</td>\n",
       "      <td>16.971127</td>\n",
       "      <td>64.108753</td>\n",
       "      <td>20.224286</td>\n",
       "      <td>69.497354</td>\n",
       "      <td>71.826087</td>\n",
       "      <td>6.734038</td>\n",
       "      <td>15.708055</td>\n",
       "    </tr>\n",
       "    <tr>\n",
       "      <th>std</th>\n",
       "      <td>13.234203</td>\n",
       "      <td>13.234203</td>\n",
       "      <td>4.229826</td>\n",
       "      <td>4.344834</td>\n",
       "      <td>22.287356</td>\n",
       "      <td>9.484236</td>\n",
       "      <td>20.118403</td>\n",
       "      <td>18.497302</td>\n",
       "      <td>1.224463</td>\n",
       "      <td>3.675411</td>\n",
       "    </tr>\n",
       "    <tr>\n",
       "      <th>min</th>\n",
       "      <td>21.880000</td>\n",
       "      <td>54.690000</td>\n",
       "      <td>15.000000</td>\n",
       "      <td>9.000000</td>\n",
       "      <td>18.500000</td>\n",
       "      <td>5.000000</td>\n",
       "      <td>40.000000</td>\n",
       "      <td>40.000000</td>\n",
       "      <td>5.400000</td>\n",
       "      <td>6.849925</td>\n",
       "    </tr>\n",
       "    <tr>\n",
       "      <th>25%</th>\n",
       "      <td>39.060000</td>\n",
       "      <td>71.870000</td>\n",
       "      <td>18.000000</td>\n",
       "      <td>15.000000</td>\n",
       "      <td>50.500000</td>\n",
       "      <td>12.000000</td>\n",
       "      <td>50.000000</td>\n",
       "      <td>60.000000</td>\n",
       "      <td>5.484906</td>\n",
       "      <td>13.795921</td>\n",
       "    </tr>\n",
       "    <tr>\n",
       "      <th>50%</th>\n",
       "      <td>47.928077</td>\n",
       "      <td>80.738077</td>\n",
       "      <td>22.000000</td>\n",
       "      <td>16.000000</td>\n",
       "      <td>71.500000</td>\n",
       "      <td>21.140000</td>\n",
       "      <td>70.000000</td>\n",
       "      <td>70.000000</td>\n",
       "      <td>6.062264</td>\n",
       "      <td>15.950180</td>\n",
       "    </tr>\n",
       "    <tr>\n",
       "      <th>75%</th>\n",
       "      <td>59.380000</td>\n",
       "      <td>92.190000</td>\n",
       "      <td>24.000000</td>\n",
       "      <td>20.000000</td>\n",
       "      <td>78.000000</td>\n",
       "      <td>26.750000</td>\n",
       "      <td>90.000000</td>\n",
       "      <td>90.000000</td>\n",
       "      <td>7.790094</td>\n",
       "      <td>17.882520</td>\n",
       "    </tr>\n",
       "    <tr>\n",
       "      <th>max</th>\n",
       "      <td>67.190000</td>\n",
       "      <td>100.000000</td>\n",
       "      <td>30.000000</td>\n",
       "      <td>26.000000</td>\n",
       "      <td>95.000000</td>\n",
       "      <td>34.000000</td>\n",
       "      <td>100.000000</td>\n",
       "      <td>100.000000</td>\n",
       "      <td>8.456604</td>\n",
       "      <td>20.829342</td>\n",
       "    </tr>\n",
       "  </tbody>\n",
       "</table>\n",
       "</div>"
      ],
      "text/plain": [
       "        midterm1  mid1_out_of_100   midterm2   midterm3      final  \\\n",
       "count  29.000000        29.000000  29.000000  29.000000  29.000000   \n",
       "mean   47.694072        80.504072  21.628810  16.971127  64.108753   \n",
       "std    13.234203        13.234203   4.229826   4.344834  22.287356   \n",
       "min    21.880000        54.690000  15.000000   9.000000  18.500000   \n",
       "25%    39.060000        71.870000  18.000000  15.000000  50.500000   \n",
       "50%    47.928077        80.738077  22.000000  16.000000  71.500000   \n",
       "75%    59.380000        92.190000  24.000000  20.000000  78.000000   \n",
       "max    67.190000       100.000000  30.000000  26.000000  95.000000   \n",
       "\n",
       "       class_score       quiz1       quiz2    project      total  \n",
       "count    28.000000   21.000000   23.000000  28.000000  29.000000  \n",
       "mean     20.224286   69.497354   71.826087   6.734038  15.708055  \n",
       "std       9.484236   20.118403   18.497302   1.224463   3.675411  \n",
       "min       5.000000   40.000000   40.000000   5.400000   6.849925  \n",
       "25%      12.000000   50.000000   60.000000   5.484906  13.795921  \n",
       "50%      21.140000   70.000000   70.000000   6.062264  15.950180  \n",
       "75%      26.750000   90.000000   90.000000   7.790094  17.882520  \n",
       "max      34.000000  100.000000  100.000000   8.456604  20.829342  "
      ]
     },
     "execution_count": 8,
     "metadata": {},
     "output_type": "execute_result"
    }
   ],
   "source": [
    "grades.describe()"
   ]
  },
  {
   "cell_type": "code",
   "execution_count": 9,
   "metadata": {},
   "outputs": [
    {
     "data": {
      "image/png": "[encoded data removed]",
      "text/plain": [
       "<Figure size 432x288 with 1 Axes>"
      ]
     },
     "metadata": {
      "needs_background": "light"
     },
     "output_type": "display_data"
    }
   ],
   "source": [
    "grades.boxplot(column=['quiz1', 'quiz2']);"
   ]
  }
 ],
 "metadata": {
  "kernelspec": {
   "display_name": "Python 3",
   "language": "python",
   "name": "python3"
  },
  "language_info": {
   "codemirror_mode": {
    "name": "ipython",
    "version": 3
   },
   "file_extension": ".py",
   "mimetype": "text/x-python",
   "name": "python",
   "nbconvert_exporter": "python",
   "pygments_lexer": "ipython3",
   "version": "3.7.3"
  }
 },
 "nbformat": 4,
 "nbformat_minor": 4
}
