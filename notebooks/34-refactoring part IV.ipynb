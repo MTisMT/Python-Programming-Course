{
 "cells": [
  {
   "cell_type": "markdown",
   "metadata": {},
   "source": [
    "<h2 dir=rtl>\n",
    "ساده‌سازی عبارت‌های شرطی\n",
    "</h2>"
   ]
  },
  {
   "cell_type": "markdown",
   "metadata": {},
   "source": [
    "<h3 dir=rtl>\n",
    "شکستن عبارت‌های شرطی\n",
    "</h3>"
   ]
  },
  {
   "cell_type": "markdown",
   "metadata": {},
   "source": [
    "<div dir=rtl>\n",
    "<b>مسئله:</b>\n",
    "    عبارت شرطی پیچیده در کد دیده می‌شود.\n",
    "</div>"
   ]
  },
  {
   "cell_type": "markdown",
   "metadata": {},
   "source": [
    "```python\n",
    "if date.before(SUMMER_START) or date.after(SUMMER_END):\n",
    "    charge = quantity * winter_rate + winter_servicecharge\n",
    "else:\n",
    "    charge = quantity * summer_rate\n",
    "```"
   ]
  },
  {
   "cell_type": "markdown",
   "metadata": {},
   "source": [
    "<div dir=rtl>\n",
    "<b>راه‌حل:</b>\n",
    "    در کد بالا قصد برنامه‌نویس پنهان شده است و مشخص نیست که چرا چنین عبارت شرطی نوشته است.\n",
    "    باید با استفاده از استخراج متد، هر کدام از سه بخش عبارت شرطی را جدا کرد و نام مناسب برای آن قرار داد.\n",
    "</div>"
   ]
  },
  {
   "cell_type": "markdown",
   "metadata": {},
   "source": [
    "```python\n",
    "if isnot_summer(date):\n",
    "    charge = winter_charge(quantity)\n",
    "else:\n",
    "    charge = summer_charge(quantity)\n",
    "```"
   ]
  },
  {
   "cell_type": "markdown",
   "metadata": {},
   "source": [
    "<h3 dir=rtl>\n",
    "تجمیع عبارت‌های شرطی\n",
    "</h3>"
   ]
  },
  {
   "cell_type": "markdown",
   "metadata": {},
   "source": [
    "<div dir=rtl>\n",
    "<b>مسئله:</b>\n",
    "    در عبارت شرطی، چندین شرطی دیده می‌شود که هر کدام به نتیجه مشابه منجر می‌شود.\n",
    "</div>"
   ]
  },
  {
   "cell_type": "code",
   "execution_count": 1,
   "metadata": {},
   "outputs": [],
   "source": [
    "def disability_amount():\n",
    "    if seniority < 2:\n",
    "        return 0\n",
    "    if months_disabled > 12:\n",
    "        return 0\n",
    "    if is_part_time:\n",
    "        return 0\n",
    "    # Compute the disability amount."
   ]
  },
  {
   "cell_type": "markdown",
   "metadata": {},
   "source": [
    "<div dir=rtl>\n",
    "<b>راه‌حل:</b>\n",
    "    کل بخش‌های مشترک را در یک عبارت شرطی جداگانه جمع‌آوری کنید و از استخراج متد استفاده کنید.\n",
    "</div>"
   ]
  },
  {
   "cell_type": "code",
   "execution_count": 2,
   "metadata": {},
   "outputs": [],
   "source": [
    "def disabilityAmount():\n",
    "    if is_not_eligable_for_disability():\n",
    "        return 0"
   ]
  },
  {
   "cell_type": "markdown",
   "metadata": {},
   "source": [
    "<h3 dir=rtl>\n",
    "جایگزینی عبارت‌های شرطی تو در تو با  گاردهای شرطی\n",
    "</h3>"
   ]
  },
  {
   "cell_type": "markdown",
   "metadata": {},
   "source": [
    "<div dir=rtl>\n",
    "<b>مسئله:</b>\n",
    "    متد رفتار شرطی دارد که مسیر عادی اجرا را مشخص نمی‌کند.\n",
    "</div>"
   ]
  },
  {
   "cell_type": "code",
   "execution_count": 3,
   "metadata": {},
   "outputs": [],
   "source": [
    "def get_pay_amount(self):\n",
    "    if self.is_dead:\n",
    "        result = dead_amount()\n",
    "    else:\n",
    "        if self.is_separated:\n",
    "            result = separated_amount()\n",
    "        else:\n",
    "            if self.is_retired:\n",
    "                result = retired_amount()\n",
    "            else:\n",
    "                result = normal_pay_amount()\n",
    "    return result"
   ]
  },
  {
   "cell_type": "markdown",
   "metadata": {},
   "source": [
    "<div dir=rtl>\n",
    "<b>راه‌حل:</b>\n",
    "    حالت‌های خاص را در همان ابتدا تابع چک کنید. در این صورت ادامه تابع مسیر عادی اجرا را نشان می‌دهد.\n",
    "</div>"
   ]
  },
  {
   "cell_type": "code",
   "execution_count": 4,
   "metadata": {},
   "outputs": [],
   "source": [
    "def get_pay_amount(self):\n",
    "    if self.is_dead:\n",
    "        return dead_amount()\n",
    "    if self.is_separated:\n",
    "        return separated_amount()\n",
    "    if self.is_retired:\n",
    "        return retired_amount()\n",
    "    return normal_pay_amount()"
   ]
  },
  {
   "cell_type": "markdown",
   "metadata": {},
   "source": [
    "<div dir=rtl>\n",
    "<b>نکته:</b>\n",
    "    در کد اولیه تنها یک نقطه بازگشت وجود داشت. در حالتی که در کد بازآرایی شده چندین نقطه بازگشت وجود دارد.\n",
    "</div>"
   ]
  }
 ],
 "metadata": {
  "kernelspec": {
   "display_name": "Python 3",
   "language": "python",
   "name": "python3"
  },
  "language_info": {
   "codemirror_mode": {
    "name": "ipython",
    "version": 3
   },
   "file_extension": ".py",
   "mimetype": "text/x-python",
   "name": "python",
   "nbconvert_exporter": "python",
   "pygments_lexer": "ipython3",
   "version": "3.7.3"
  }
 },
 "nbformat": 4,
 "nbformat_minor": 4
}
