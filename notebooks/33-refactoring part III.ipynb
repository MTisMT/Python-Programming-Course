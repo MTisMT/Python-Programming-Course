{
 "cells": [
  {
   "cell_type": "markdown",
   "metadata": {},
   "source": [
    "<h2 dir=rtl>\n",
    "سازماندهی داده\n",
    "</h2>"
   ]
  },
  {
   "cell_type": "markdown",
   "metadata": {},
   "source": [
    "<h3 dir=rtl>\n",
    "<code>Self Encapsulate Field</code>\n",
    "</h3>"
   ]
  },
  {
   "cell_type": "markdown",
   "metadata": {},
   "source": [
    "<div dir=rtl>\n",
    "<b>مسئله:</b>\n",
    "    متدهای داخلی یک کلاس به صورت مستقیم به خصوصیات کلاس دسترسی دارند.\n",
    "</div>"
   ]
  },
  {
   "cell_type": "code",
   "execution_count": 1,
   "metadata": {},
   "outputs": [],
   "source": [
    "class Range:\n",
    "    \n",
    "    def include(self, arg):\n",
    "        return arg >= self.__low\n",
    "    \n",
    "    @property\n",
    "    def low(self):\n",
    "        return self.__low\n",
    "    \n",
    "    @low.setter\n",
    "    def low(self):\n",
    "        self.__low = low"
   ]
  },
  {
   "cell_type": "markdown",
   "metadata": {},
   "source": [
    "<div dir=rtl>\n",
    "<b>راه‌حل:</b>\n",
    "    حتی در داخل متدهای کلاس نیز برای دسترسی به خصوصیات از \n",
    "    <code>getter</code>\n",
    "    و\n",
    "    <code>setter</code>\n",
    "    استفاده کنید.\n",
    "</div>"
   ]
  },
  {
   "cell_type": "code",
   "execution_count": 2,
   "metadata": {},
   "outputs": [],
   "source": [
    "class Range:\n",
    "    \n",
    "    def include(self, arg):\n",
    "        return arg >= self.low\n",
    "    \n",
    "    @property\n",
    "    def low(self):\n",
    "        return self.__low\n",
    "    \n",
    "    @low.setter\n",
    "    def low(self):\n",
    "        self.__low = low"
   ]
  },
  {
   "cell_type": "markdown",
   "metadata": {},
   "source": [
    "<h2 dir=rtl> \n",
    "جایگزینی لیست با شیء\n",
    "</h2>"
   ]
  },
  {
   "cell_type": "markdown",
   "metadata": {},
   "source": [
    "<div dir=rtl>\n",
    "<b>مسئله:</b>\n",
    "    فرض کنید که لیستی دارید که از نوع‌های متفاوتی تشکیل شده است.\n",
    "</div>"
   ]
  },
  {
   "cell_type": "code",
   "execution_count": 3,
   "metadata": {},
   "outputs": [],
   "source": [
    "row = [\"liverpool\", 15]"
   ]
  },
  {
   "cell_type": "markdown",
   "metadata": {},
   "source": [
    "<div dir=rtl>\n",
    "<b>راه‌حل:</b>\n",
    "    لیستی را تبدیل به یک شیء کنید.\n",
    "</div>"
   ]
  },
  {
   "cell_type": "code",
   "execution_count": 4,
   "metadata": {},
   "outputs": [],
   "source": [
    "class Performance:\n",
    "    pass\n",
    "\n",
    "row = Performance()\n",
    "row.name = \"liverpool\"\n",
    "row.wins = 15"
   ]
  },
  {
   "cell_type": "markdown",
   "metadata": {},
   "source": [
    "<h3 dir=rtl>\n",
    "جایگزینی اعداد با ثابت‌های معنادار\n",
    "</h3>"
   ]
  },
  {
   "cell_type": "markdown",
   "metadata": {},
   "source": [
    "<div dir=rtl>\n",
    "<b>مسئله:</b>\n",
    "    کد شما از اعدادی استفاده می‌کند که معنای خاصی دارد.\n",
    "</div>"
   ]
  },
  {
   "cell_type": "code",
   "execution_count": 5,
   "metadata": {},
   "outputs": [],
   "source": [
    "def potential_energy(mass, height):\n",
    "    return mass * height * 9.81"
   ]
  },
  {
   "cell_type": "markdown",
   "metadata": {},
   "source": [
    "<div dir=rtl>\n",
    "<b>راه‌حل:</b>\n",
    "    عدد را با ثابتی که معنای آن را بیان می‌کند، جایگزین کنید.\n",
    "</div>"
   ]
  },
  {
   "cell_type": "code",
   "execution_count": 6,
   "metadata": {},
   "outputs": [],
   "source": [
    "GRAVITATIONAL_CONSTANT = 9.81\n",
    "\n",
    "def potential_energy(mass, height):\n",
    "    return mass * height * GRAVITATIONAL_CONSTANT"
   ]
  }
 ],
 "metadata": {
  "kernelspec": {
   "display_name": "Python 3",
   "language": "python",
   "name": "python3"
  },
  "language_info": {
   "codemirror_mode": {
    "name": "ipython",
    "version": 3
   },
   "file_extension": ".py",
   "mimetype": "text/x-python",
   "name": "python",
   "nbconvert_exporter": "python",
   "pygments_lexer": "ipython3",
   "version": "3.7.3"
  }
 },
 "nbformat": 4,
 "nbformat_minor": 4
}
