{
 "cells": [
  {
   "cell_type": "markdown",
   "metadata": {},
   "source": [
    "<div dir=rtl>\n",
    "کلاس دلار را در نظر بگیرید.\n",
    "</div>"
   ]
  },
  {
   "cell_type": "code",
   "execution_count": 1,
   "metadata": {},
   "outputs": [],
   "source": [
    "class Dollar:\n",
    "    \n",
    "    def __init__(self, value):\n",
    "        self.value = value\n",
    "        \n",
    "    @property\n",
    "    def value(self):\n",
    "        return self.__value\n",
    "    \n",
    "    @value.setter\n",
    "    def value(self, value):\n",
    "        if type(value) in {int, float}:\n",
    "            self.__value = value\n",
    "        else:\n",
    "            raise ValueError(\"The value of dollar is invalid\")\n",
    "    \n",
    "    def __str__(self):\n",
    "        return f\"${self.value}\""
   ]
  },
  {
   "cell_type": "code",
   "execution_count": 2,
   "metadata": {},
   "outputs": [
    {
     "name": "stdout",
     "output_type": "stream",
     "text": [
      "$2.1\n"
     ]
    }
   ],
   "source": [
    "print(Dollar(2.1))"
   ]
  },
  {
   "cell_type": "markdown",
   "metadata": {},
   "source": [
    "<div dir=rtl>\n",
    "حال فرض کنید که بخواهیم کاربر بتواند\n",
    "از روی\n",
    "<code>\"$3.11\"</code>\n",
    "یک شیء دلار بسازد.\n",
    "</div>"
   ]
  },
  {
   "cell_type": "markdown",
   "metadata": {},
   "source": [
    "<div dir=rtl>\n",
    "یک راه آن است که یک متد بنویسیم که یک رشته دریفات کند و یک شیء دلار بسازد. ولیکن می‌دانیم که این متد مختص شیء نیست بلکه مربوط به کلاس است.\n",
    "</div>"
   ]
  },
  {
   "cell_type": "markdown",
   "metadata": {},
   "source": [
    "<div dir=rtl>\n",
    "برای حل این مشکل، پایتون مفهومی به نام\n",
    "<code>classmethod</code>\n",
    "ایجاد کرده است.\n",
    "</div>"
   ]
  },
  {
   "cell_type": "code",
   "execution_count": 3,
   "metadata": {},
   "outputs": [],
   "source": [
    "class Dollar:\n",
    "    \n",
    "    def __init__(self, value):\n",
    "        self.value = value\n",
    "        \n",
    "    @property\n",
    "    def value(self):\n",
    "        return self.__value\n",
    "    \n",
    "    @value.setter\n",
    "    def value(self, value):\n",
    "        if type(value) in {int, float}:\n",
    "            self.__value = value\n",
    "        else:\n",
    "            raise ValueError(\"The value of dollar is invalid\")\n",
    "    @classmethod\n",
    "    def from_string(cls, value):\n",
    "        value = value[1:]\n",
    "        return cls(float(value))\n",
    "    \n",
    "    def __str__(self):\n",
    "        return f\"${self.value}\""
   ]
  },
  {
   "cell_type": "code",
   "execution_count": 4,
   "metadata": {},
   "outputs": [],
   "source": [
    "d1 = Dollar.from_string(\"$2.11\")"
   ]
  },
  {
   "cell_type": "code",
   "execution_count": 5,
   "metadata": {},
   "outputs": [
    {
     "name": "stdout",
     "output_type": "stream",
     "text": [
      "$2.11\n"
     ]
    }
   ],
   "source": [
    "print(d1)"
   ]
  },
  {
   "cell_type": "markdown",
   "metadata": {},
   "source": [
    "<div dir=rtl>\n",
    "گاهی اوقات تابعی داریم که نه به کلاس وابسته است و نه نمونه آن. بلکه برای این تابع جایی را سراغ نداریم و همچنین از لحاظ محتوایی کلاس مذکور بهترین انتخاب است.\n",
    "در این صورت از \n",
    "<code>staticmethod</code>\n",
    "استفاده می‌کنیم.\n",
    "</div>"
   ]
  },
  {
   "cell_type": "code",
   "execution_count": 6,
   "metadata": {},
   "outputs": [],
   "source": [
    "class Dollar:\n",
    "    \n",
    "    def __init__(self, value):\n",
    "        self.value = value\n",
    "        \n",
    "    @property\n",
    "    def value(self):\n",
    "        return self.__value\n",
    "    \n",
    "    @value.setter\n",
    "    def value(self, value):\n",
    "        if type(value) in {int, float}:\n",
    "            self.__value = value\n",
    "        else:\n",
    "            raise ValueError(\"The value of dollar is invalid\")\n",
    "    \n",
    "    @classmethod\n",
    "    def from_string(cls, value):\n",
    "        value = value[1:]\n",
    "        return cls(float(value))\n",
    "    \n",
    "    @staticmethod\n",
    "    def is_expensive(price):\n",
    "        if price >= 100:\n",
    "            return True\n",
    "        return False\n",
    "    \n",
    "    def __str__(self):\n",
    "        return f\"${self.value}\""
   ]
  },
  {
   "cell_type": "code",
   "execution_count": 7,
   "metadata": {},
   "outputs": [
    {
     "data": {
      "text/plain": [
       "False"
      ]
     },
     "execution_count": 7,
     "metadata": {},
     "output_type": "execute_result"
    }
   ],
   "source": [
    "Dollar.is_expensive(12)"
   ]
  }
 ],
 "metadata": {
  "kernelspec": {
   "display_name": "Python 3",
   "language": "python",
   "name": "python3"
  },
  "language_info": {
   "codemirror_mode": {
    "name": "ipython",
    "version": 3
   },
   "file_extension": ".py",
   "mimetype": "text/x-python",
   "name": "python",
   "nbconvert_exporter": "python",
   "pygments_lexer": "ipython3",
   "version": "3.7.3"
  }
 },
 "nbformat": 4,
 "nbformat_minor": 4
}
