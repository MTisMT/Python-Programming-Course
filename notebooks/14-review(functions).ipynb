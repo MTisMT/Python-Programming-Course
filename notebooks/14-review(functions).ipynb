{
 "cells": [
  {
   "cell_type": "markdown",
   "metadata": {},
   "source": [
    "<div dir=rtl>\n",
    "<b>سوال:</b>\n",
    "    در این سوال با استفاده از اعداد تصادفی سعی کنید تا انتگرال\n",
    "    $e^{-x^2}$\n",
    "    را بین بازه صفر تا پنج محاسبه کنید.\n",
    "</div>"
   ]
  },
  {
   "cell_type": "code",
   "execution_count": 1,
   "metadata": {},
   "outputs": [],
   "source": [
    "import numpy as np \n",
    "import math "
   ]
  },
  {
   "cell_type": "code",
   "execution_count": 2,
   "metadata": {},
   "outputs": [
    {
     "name": "stdout",
     "output_type": "stream",
     "text": [
      "The Integral is approximately 0.89\n"
     ]
    }
   ],
   "source": [
    "total_numbers = 1_000_000\n",
    "count = 0\n",
    "xpoints = np.random.uniform(0,5, total_numbers)\n",
    "ypoints = np.random.uniform(0,1, total_numbers)\n",
    "for x, y in zip(xpoints, ypoints):\n",
    "    if y <= math.exp(-(x**2)):\n",
    "        count += 1\n",
    "print(f\"The Integral is approximately {5 *(count/total_numbers):.2f}\")"
   ]
  },
  {
   "cell_type": "markdown",
   "metadata": {},
   "source": [
    "<div dir=rtl>\n",
    "<b>سوال:</b>\n",
    "    برنامه‌ای بنویسید که یک رشته خوب را تشخیص دهد. یک رشته را خوب می‌گوییم اگر بدرستی پرانتزگذاری شده باشد.\n",
    "    توجه کنید که نمادهای\n",
    "    <code>{} [] ()</code>\n",
    "    شامل پرانتزگذاری نیز می‌شود.\n",
    "</div>"
   ]
  },
  {
   "cell_type": "code",
   "execution_count": 3,
   "metadata": {},
   "outputs": [],
   "source": [
    "def is_valid(expr):\n",
    "    stack = []\n",
    "    opened_symbols = [\"(\", \"{\", \"[\"]\n",
    "    closed_symbols = [\")\", \"}\", \"]\"]\n",
    "    for l in expr:\n",
    "        if l in opened_symbols:\n",
    "            stack.append(l)\n",
    "        elif l in closed_symbols:\n",
    "            if stack == []:\n",
    "                return False\n",
    "            popped_item = stack.pop()\n",
    "            if popped_item == \"(\" and l != \")\":\n",
    "                return False\n",
    "            if popped_item == \"{\" and l != \"}\":\n",
    "                return False\n",
    "            if popped_item == \"[\" and l != \"]\":\n",
    "                return False\n",
    "    return stack == []"
   ]
  },
  {
   "cell_type": "code",
   "execution_count": 4,
   "metadata": {},
   "outputs": [
    {
     "name": "stdout",
     "output_type": "stream",
     "text": [
      "True\n",
      "True\n",
      "False\n",
      "False\n"
     ]
    }
   ],
   "source": [
    "print(is_valid(\"{{}([][])}(())\"))\n",
    "print(is_valid(\"[]()(){()(())}\"))\n",
    "print(is_valid(\"({)}\"))\n",
    "print(is_valid(\"[]()()()(())}\"))"
   ]
  }
 ],
 "metadata": {
  "kernelspec": {
   "display_name": "Python 3",
   "language": "python",
   "name": "python3"
  },
  "language_info": {
   "codemirror_mode": {
    "name": "ipython",
    "version": 3
   },
   "file_extension": ".py",
   "mimetype": "text/x-python",
   "name": "python",
   "nbconvert_exporter": "python",
   "pygments_lexer": "ipython3",
   "version": "3.7.3"
  }
 },
 "nbformat": 4,
 "nbformat_minor": 4
}
