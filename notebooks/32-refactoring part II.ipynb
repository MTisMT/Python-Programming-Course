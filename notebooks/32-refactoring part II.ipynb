{
 "cells": [
  {
   "cell_type": "markdown",
   "metadata": {},
   "source": [
    "<h2 dir=rtl>\n",
    "ساختن متد‌ها\n",
    "</h2>"
   ]
  },
  {
   "cell_type": "markdown",
   "metadata": {},
   "source": [
    "<h3 dir=rtl>\n",
    "استخراج متد\n",
    "</h3>"
   ]
  },
  {
   "cell_type": "markdown",
   "metadata": {},
   "source": [
    "<div dir=rtl>\n",
    "<b>مسئله:</b>\n",
    "    زمانی که قطعه‌ای از دستورات داریم که می‌تواند با یکدیگر ترکیب شود.\n",
    "</div>"
   ]
  },
  {
   "cell_type": "code",
   "execution_count": 1,
   "metadata": {},
   "outputs": [],
   "source": [
    "def print_owing(self):\n",
    "    self.print_banner()\n",
    "    # print details\n",
    "    print(\"name:\", self.name)\n",
    "    print(\"amount:\", self.outstanding)"
   ]
  },
  {
   "cell_type": "markdown",
   "metadata": {},
   "source": [
    "<div dir=rtl>\n",
    "<b>راه‌حل:</b>\n",
    "    قطعه کد را تبدیل به یک متد کنید و به آن نامی بدهید که هدف آن را بیان کند.\n",
    "</div>"
   ]
  },
  {
   "cell_type": "code",
   "execution_count": 2,
   "metadata": {},
   "outputs": [],
   "source": [
    "def print_owing(self):\n",
    "    self.print_banner()\n",
    "    self.print_details()\n",
    "\n",
    "def print_details(self):\n",
    "    print(\"name:\", self.name)\n",
    "    print(\"amount:\", self.outstanding)"
   ]
  },
  {
   "cell_type": "markdown",
   "metadata": {},
   "source": [
    "<h3 dir=rtl>\n",
    "<code>Inline Method</code>\n",
    "</h3>"
   ]
  },
  {
   "cell_type": "markdown",
   "metadata": {},
   "source": [
    "<div dir=rtl>\n",
    "<b>مسئله:</b>\n",
    "    زمانی که بدنه متد از خود متد خواناتر باشد.\n",
    "</div>"
   ]
  },
  {
   "cell_type": "code",
   "execution_count": 3,
   "metadata": {},
   "outputs": [],
   "source": [
    "class PizzaDeliver:\n",
    "    \n",
    "    @property\n",
    "    def rate(self):\n",
    "        return 2 if self.more_than_five_late_deliveries() else 1\n",
    "    \n",
    "    def more_than_five_late_deliveries():\n",
    "        return self.number_of_late_deliveries > 5"
   ]
  },
  {
   "cell_type": "markdown",
   "metadata": {},
   "source": [
    "<div dir=rtl>\n",
    "<b>راه‌حل:</b>\n",
    "    بدنه متد را در جایی که فراخوانی شده است قرار دهید و متد را حذف کنید.\n",
    "</div>"
   ]
  },
  {
   "cell_type": "code",
   "execution_count": 4,
   "metadata": {},
   "outputs": [],
   "source": [
    "class PizzaDeliver:\n",
    "    \n",
    "    @property\n",
    "    def rate(self):\n",
    "        return 2 if self.number_of_late_deliveries > 5 else 1"
   ]
  },
  {
   "cell_type": "markdown",
   "metadata": {},
   "source": [
    "<h3 dir=rtl>\n",
    "جایگزینی متد با شیء متد\n",
    "</h3>"
   ]
  },
  {
   "cell_type": "markdown",
   "metadata": {},
   "source": [
    "<div dir=rtl>\n",
    "<b>مسئله:</b>\n",
    "    فرض کنید متدی طولانی دارید که متغیرهای محلی‌اش آن‌چنان وابسته به بدنه محاسباتی‌اند که نمی‌توانید الگو استخراج متد را اعمال کنید.\n",
    "</div>"
   ]
  },
  {
   "cell_type": "code",
   "execution_count": 5,
   "metadata": {},
   "outputs": [],
   "source": [
    "class Order:\n",
    "    \n",
    "    def price(self):\n",
    "        primary_base_price = 0\n",
    "        secondary_base_price = 0\n",
    "        tertiary_base_price = 0\n",
    "        # Perform log computation"
   ]
  },
  {
   "cell_type": "markdown",
   "metadata": {},
   "source": [
    "<div dir=rtl>\n",
    "<b>راه‌حل:</b>\n",
    "    متد را تبدیل به یک شیء کنید به طوری که متغیرها تبدیل به خصوصیات کلاس جدید می‌شوند. سپس می‌توانید متد را به چندین متد در داخل کلاس بشکنید.\n",
    "</div>"
   ]
  },
  {
   "cell_type": "code",
   "execution_count": 6,
   "metadata": {},
   "outputs": [],
   "source": [
    "class Order:\n",
    "    \n",
    "    def price(self):\n",
    "        return PriceCalculator(self).compute()\n",
    "\n",
    "class PriceCalculator:\n",
    "    \n",
    "    def __init__(self, order):\n",
    "        self._primary_base_price = 0\n",
    "        self._secondary_base_price = 0\n",
    "        self._tertiary_base_price = 0\n",
    "        self._order = order\n",
    "        # Copy relevant information from order object.\n",
    "        \n",
    "    def compute(self):\n",
    "        # Perform long computation\n",
    "        pass"
   ]
  },
  {
   "cell_type": "markdown",
   "metadata": {},
   "source": [
    "<h3 dir=rtl>\n",
    "جایگزینی متغیر موقتی با پرسمان\n",
    "</h3>"
   ]
  },
  {
   "cell_type": "markdown",
   "metadata": {},
   "source": [
    "<div dir=rtl>\n",
    "<b>مسئله:</b>\n",
    "    زمانی که نتیجه یک عبارت‌را برای استفاده در آینده در یک متغیر محلی قرار می‌دهید.\n",
    "</div>"
   ]
  },
  {
   "cell_type": "code",
   "execution_count": 7,
   "metadata": {},
   "outputs": [],
   "source": [
    "def calculate_total(self):\n",
    "    base_price = quantity * item_price\n",
    "    if base_price > 1000:\n",
    "        return base_price * 0.95\n",
    "    return base_price * 0.98"
   ]
  },
  {
   "cell_type": "markdown",
   "metadata": {},
   "source": [
    "<div dir=rtl>\n",
    "<b>راه‌حل:</b>\n",
    "    کل عبارت را با یک متد جایگزین کنید و نتیجه عبارت را به عنوان مقدار برگشتی متد قرار دهید.\n",
    "</div>"
   ]
  },
  {
   "cell_type": "code",
   "execution_count": 8,
   "metadata": {},
   "outputs": [],
   "source": [
    "def calculate_total(self):\n",
    "    if base_price () > 1000:\n",
    "        return base_price() * 0.95\n",
    "    return base_price() * 0.98\n",
    "    \n",
    "def base_price(self):\n",
    "    return quantity * item_price"
   ]
  }
 ],
 "metadata": {
  "kernelspec": {
   "display_name": "Python 3",
   "language": "python",
   "name": "python3"
  },
  "language_info": {
   "codemirror_mode": {
    "name": "ipython",
    "version": 3
   },
   "file_extension": ".py",
   "mimetype": "text/x-python",
   "name": "python",
   "nbconvert_exporter": "python",
   "pygments_lexer": "ipython3",
   "version": "3.7.3"
  }
 },
 "nbformat": 4,
 "nbformat_minor": 4
}
