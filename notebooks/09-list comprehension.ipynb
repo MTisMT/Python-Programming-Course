{
 "cells": [
  {
   "cell_type": "markdown",
   "metadata": {},
   "source": [
    "<div dir=rtl>\n",
    "فرض کنید که می‌خواهیم لیستی از اعداد صفر تا نه ایجاد کنیم. با توجه به دانش فعلیمان، این کار را با کد زیر انجام می‌دهیم.\n",
    "</div>"
   ]
  },
  {
   "cell_type": "code",
   "execution_count": 1,
   "metadata": {},
   "outputs": [
    {
     "name": "stdout",
     "output_type": "stream",
     "text": [
      "[0, 1, 2, 3, 4, 5, 6, 7, 8, 9]\n"
     ]
    }
   ],
   "source": [
    "num_list = []\n",
    "for i in range(10):\n",
    "    num_list.append(i)\n",
    "print(num_list)"
   ]
  },
  {
   "cell_type": "markdown",
   "metadata": {},
   "source": [
    "<div dir=rtl>\n",
    "زبان برنامه‌نویسی پایتون این امکان را به برنامه‌نویس می‌دهد تا لیست فوق را با استفاده از نحو خاصی تنها در یک خط ایجاد کرد.\n",
    "</div>"
   ]
  },
  {
   "cell_type": "code",
   "execution_count": 2,
   "metadata": {},
   "outputs": [
    {
     "name": "stdout",
     "output_type": "stream",
     "text": [
      "[0, 1, 2, 3, 4, 5, 6, 7, 8, 9]\n"
     ]
    }
   ],
   "source": [
    "num_list = [i for i in range(10)]\n",
    "print(num_list)"
   ]
  },
  {
   "cell_type": "markdown",
   "metadata": {},
   "source": [
    "<div dir=rtl>\n",
    "<b>سوال:</b>\n",
    "    لیستی از حروف کلمات\n",
    "    <code>'word'</code>\n",
    "    ایجاد کنید.\n",
    "</div>"
   ]
  },
  {
   "cell_type": "code",
   "execution_count": 3,
   "metadata": {},
   "outputs": [
    {
     "name": "stdout",
     "output_type": "stream",
     "text": [
      "['w', 'o', 'r', 'd']\n"
     ]
    }
   ],
   "source": [
    "word_letters = [x for x in 'word']\n",
    "print(word_letters)"
   ]
  },
  {
   "cell_type": "markdown",
   "metadata": {},
   "source": [
    "<div dir=rtl>\n",
    "<b>سوال:</b>\n",
    "    لیستی از توان دو اعداد صفر تا نه را ایجاد کنید.\n",
    "</div>"
   ]
  },
  {
   "cell_type": "code",
   "execution_count": 4,
   "metadata": {},
   "outputs": [
    {
     "name": "stdout",
     "output_type": "stream",
     "text": [
      "[0, 1, 4, 9, 16, 25, 36, 49, 64, 81]\n"
     ]
    }
   ],
   "source": [
    "lst = []\n",
    "for i in range(10):\n",
    "    lst.append(i ** 2)\n",
    "print(lst)"
   ]
  },
  {
   "cell_type": "code",
   "execution_count": 5,
   "metadata": {},
   "outputs": [
    {
     "name": "stdout",
     "output_type": "stream",
     "text": [
      "[0, 1, 4, 9, 16, 25, 36, 49, 64, 81]\n"
     ]
    }
   ],
   "source": [
    "lst = [i ** 2 for i in range(10)]\n",
    "print(lst)"
   ]
  },
  {
   "cell_type": "markdown",
   "metadata": {},
   "source": [
    "<div dir=rtl>\n",
    "<b>سوال:</b>\n",
    "    لیستی ایجاد کنید که شامل اعداد زوج بین صفر تا ۹ است.\n",
    "</div>"
   ]
  },
  {
   "cell_type": "code",
   "execution_count": 6,
   "metadata": {},
   "outputs": [
    {
     "name": "stdout",
     "output_type": "stream",
     "text": [
      "[0, 2, 4, 6, 8]\n"
     ]
    }
   ],
   "source": [
    "lst = []\n",
    "for i in range(10):\n",
    "    if i % 2 == 0:\n",
    "        lst.append(i)\n",
    "print(lst)"
   ]
  },
  {
   "cell_type": "code",
   "execution_count": 7,
   "metadata": {},
   "outputs": [
    {
     "name": "stdout",
     "output_type": "stream",
     "text": [
      "[0, 2, 4, 6, 8]\n"
     ]
    }
   ],
   "source": [
    "lst = [i for i in range(10) if i % 2 == 0]\n",
    "print(lst)"
   ]
  },
  {
   "cell_type": "markdown",
   "metadata": {},
   "source": [
    "<div dir=rtl>\n",
    "حال فرض کنید که می‌خواهیم ماتریسی پنج در پنج از اعداد یک تا ۲۵ ایجاد کنیم. قبلاً با استفاده از حلقه‌های تو در تو این مسئله را حل می‌کردیم.\n",
    "</div>"
   ]
  },
  {
   "cell_type": "code",
   "execution_count": 8,
   "metadata": {},
   "outputs": [
    {
     "name": "stdout",
     "output_type": "stream",
     "text": [
      "[[1, 2, 3, 4, 5], [6, 7, 8, 9, 10], [11, 12, 13, 14, 15], [16, 17, 18, 19, 20], [21, 22, 23, 24, 25]]\n"
     ]
    }
   ],
   "source": [
    "matrix = []\n",
    "for i in range(5):\n",
    "    row = []\n",
    "    for j in range(1, 6):\n",
    "        row.append(5 * i + j)\n",
    "    matrix.append(row)\n",
    "print(matrix)"
   ]
  },
  {
   "cell_type": "markdown",
   "metadata": {},
   "source": [
    "<div dir=rtl>\n",
    "می‌توانیم از لیست‌های\n",
    "<code>nested</code>\n",
    "برای ایجاد این ماتریس استفاده کنیم.\n",
    "</div>"
   ]
  },
  {
   "cell_type": "code",
   "execution_count": 9,
   "metadata": {},
   "outputs": [
    {
     "name": "stdout",
     "output_type": "stream",
     "text": [
      "[[1, 2, 3, 4, 5], [6, 7, 8, 9, 10], [11, 12, 13, 14, 15], [16, 17, 18, 19, 20], [21, 22, 23, 24, 25]]\n"
     ]
    }
   ],
   "source": [
    "matrix = [[5 * i + j for j in range(1,6)] for i in range(5)]\n",
    "print(matrix)"
   ]
  },
  {
   "cell_type": "markdown",
   "metadata": {},
   "source": [
    "<div dir=rtl>\n",
    "<b>سوال:</b>\n",
    "    دو لیست\n",
    "    <code>l1</code>\n",
    "    و\n",
    "    <code>l2</code>\n",
    "    را در نظر بگیرید. در یک خط برنامه‌ای بنویسید که لیست\n",
    "    <code>lst</code>\n",
    "    را ایجاد کند.\n",
    "<div>"
   ]
  },
  {
   "cell_type": "markdown",
   "metadata": {},
   "source": [
    "```python\n",
    "l1 = ['a','b','c']\n",
    "l2 = ['x', 'y', 'z']\n",
    "lst = ['ax', 'ay', 'az', 'bx', 'by', 'bz', 'cx', 'cy', 'cz']\n",
    "```"
   ]
  },
  {
   "cell_type": "code",
   "execution_count": 10,
   "metadata": {},
   "outputs": [
    {
     "name": "stdout",
     "output_type": "stream",
     "text": [
      "['ax', 'ay', 'az', 'bx', 'by', 'bz', 'cx', 'cy', 'cz']\n"
     ]
    }
   ],
   "source": [
    "l1 = ['a', 'b', 'c']\n",
    "l2 = ['x', 'y', 'z']\n",
    "lst = [s1 + s2 for s1 in l1 for s2 in l2]\n",
    "print(lst)"
   ]
  },
  {
   "cell_type": "markdown",
   "metadata": {},
   "source": [
    "<div dir=rtl>\n",
    "<b>سوال:</b>\n",
    "    برنامه‌ای بنویسید که ضرب داخلی دو بردار را محاسبه کند.\n",
    "</div>"
   ]
  },
  {
   "cell_type": "code",
   "execution_count": 11,
   "metadata": {},
   "outputs": [
    {
     "name": "stdout",
     "output_type": "stream",
     "text": [
      "54\n"
     ]
    }
   ],
   "source": [
    "v1 = [1, 3, 2, 5]\n",
    "v2 = [7, 10, 1, 3]\n",
    "dot_product = sum([i * j for i,j in zip(v1, v2)])\n",
    "print(dot_product)"
   ]
  }
 ],
 "metadata": {
  "kernelspec": {
   "display_name": "Python 3",
   "language": "python",
   "name": "python3"
  },
  "language_info": {
   "codemirror_mode": {
    "name": "ipython",
    "version": 3
   },
   "file_extension": ".py",
   "mimetype": "text/x-python",
   "name": "python",
   "nbconvert_exporter": "python",
   "pygments_lexer": "ipython3",
   "version": "3.7.3"
  }
 },
 "nbformat": 4,
 "nbformat_minor": 4
}
