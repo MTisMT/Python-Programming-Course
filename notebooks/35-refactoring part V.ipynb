{
 "cells": [
  {
   "cell_type": "markdown",
   "metadata": {},
   "source": [
    "<h2 dir=rtl>\n",
    "ساده‌سازی فراخوانی‌های متد\n",
    "</h2>"
   ]
  },
  {
   "cell_type": "markdown",
   "metadata": {},
   "source": [
    "<h3 dir=rtl>\n",
    "جداسازی پرسمان از تغییردهنده\n",
    "</h3>"
   ]
  },
  {
   "cell_type": "markdown",
   "metadata": {},
   "source": [
    "<div dir=rtl>\n",
    "<b>مسئله:</b>\n",
    "    زمانی که یک تابع بدون اثر جانبی قابل مشاهده داریم، می‌توانیم هر تعداد بار که می‌خواهیم آن را فراخوانی کنیم یا آن را \n",
    "    در مکان دیگری از متد قرار دهیم بدون آن که نگران باشیم. منظور از متد دارای اثر جانبی، متدی است که حالت یک یا چند شیء را تغییر می‌دهد. یک قانون ساده برای پیروی کردن این است که متدی که خروجی دارد نباید اثر جانبی قابل مشاهده داشته باشد.\n",
    "</div>"
   ]
  },
  {
   "cell_type": "code",
   "execution_count": 1,
   "metadata": {},
   "outputs": [],
   "source": [
    "def totaloutstanding_and_sendbill(self):\n",
    "    result = self.customer.service.reduce(lambda total,each: each.amount + total,0)\n",
    "    sendbill()\n",
    "    return result"
   ]
  },
  {
   "cell_type": "markdown",
   "metadata": {},
   "source": [
    "<div dir=rtl>\n",
    "<b>راه‌حل:</b>\n",
    "    دو متد ایجاد می‌کنیم به طوری که یک متد تنها پرسمان است یعنی اثر جانبی قابل مشاهده ندارد. دومین متد حالت شیء را تغییر می‌دهد. متد پرسمان خروجی دارد و متد تغییر دهنده حالت شیء هیچ خروجی ندارد.\n",
    "</div>"
   ]
  },
  {
   "cell_type": "code",
   "execution_count": 2,
   "metadata": {},
   "outputs": [],
   "source": [
    "def totaloutstanding(self):\n",
    "    return self.customer.invoices.reduce(lambda total,each: each.amount + total,0)\n",
    "def sendbill(self):\n",
    "    self.email_gateway.send(format_bill(customer))"
   ]
  },
  {
   "cell_type": "markdown",
   "metadata": {},
   "source": [
    "<h3 dir=rtl>\n",
    "پارامتریزه کردن متدها\n",
    "</h3>"
   ]
  },
  {
   "cell_type": "markdown",
   "metadata": {},
   "source": [
    "<div dir=rtl>\n",
    "<b>مسئله:</b>\n",
    "    زمانی که چندین متد داریم که کار مشابه ولی کن با مقدارهای متفاوت انجام می‌دهند.\n",
    "</div>"
   ]
  },
  {
   "cell_type": "code",
   "execution_count": 3,
   "metadata": {},
   "outputs": [],
   "source": [
    "def five_percent_raise(self):\n",
    "    return self.amount * 1.05\n",
    "def ten_percent_raise(self):\n",
    "    return self.amount * 1.10"
   ]
  },
  {
   "cell_type": "markdown",
   "metadata": {},
   "source": [
    "<div dir=rtl>\n",
    "<b>راه‌حل:</b>\n",
    "    یک متد جدید بسازید که پارامتر آن مقادیر مورد استفاده در متدهای قبلی است. سپس متدهای قبلی را حذف کنید.\n",
    "</div>"
   ]
  },
  {
   "cell_type": "code",
   "execution_count": 4,
   "metadata": {},
   "outputs": [],
   "source": [
    "def raise_amount(self, percentage):\n",
    "    return self.amount * percentage"
   ]
  },
  {
   "cell_type": "markdown",
   "metadata": {},
   "source": [
    "<h3 dir=rtl>\n",
    "حذف پارامتر کنترلی\n",
    "</h3>"
   ]
  },
  {
   "cell_type": "markdown",
   "metadata": {},
   "source": [
    "<div dir=rtl>\n",
    "<b>مسئله:</b>\n",
    "  بدنه یک متد به چند بخش تقسیم شده است. هر بخش بر اساس مقداری که پارامتر ورودی دارد، اجرا می‌شود.\n",
    "توجه کنید که پارامتر ورودی تنها مقادیر محدودی دریافت می‌کند.\n",
    "</div>"
   ]
  },
  {
   "cell_type": "code",
   "execution_count": 5,
   "metadata": {},
   "outputs": [],
   "source": [
    "def adjustvalue(self, name, value):\n",
    "    if name == \"height\":\n",
    "        self._height = value\n",
    "    if name == \"width\":\n",
    "        self._width = value"
   ]
  },
  {
   "cell_type": "markdown",
   "metadata": {},
   "source": [
    "<div dir=rtl>\n",
    "<b>راه‌حل:</b>\n",
    "    به ازای هر مقداری که پارامتر کنترلی می‌گیرد یک متد صریح جداگانه ایجاد کنید. سپس بخش‌های مربوط به هر متد را از\n",
    "    متد اصلی به متد جدید منتقل کنید. در نهایت متد قدیمی را حذف کنید.\n",
    "</div>"
   ]
  },
  {
   "cell_type": "code",
   "execution_count": 6,
   "metadata": {},
   "outputs": [],
   "source": [
    "def height(self, h):\n",
    "    self._height = h\n",
    "\n",
    "def width(self, w):\n",
    "    set._width"
   ]
  },
  {
   "cell_type": "markdown",
   "metadata": {},
   "source": [
    "<h3 dir=rtl>\n",
    "حفظ کل شیء\n",
    "</h3"
   ]
  },
  {
   "cell_type": "markdown",
   "metadata": {},
   "source": [
    "<div dir=rtl>\n",
    "<b>مسئله:</b>\n",
    "    زمانی که تعداد زیادی مقدار از یک شیء دریافت می‌کنیم و تمام آن مقادیر را به عنوان پارامتر به یک متد می‌دهیم.\n",
    "</div>"
   ]
  },
  {
   "cell_type": "markdown",
   "metadata": {},
   "source": [
    "```python\n",
    "dtr = daysTempRange()\n",
    "low = dtr.low\n",
    "high = dtr.high\n",
    "within_plan = plan.within_range(low, high)\n",
    "```"
   ]
  },
  {
   "cell_type": "markdown",
   "metadata": {},
   "source": [
    "<div dir=rtl>\n",
    "<b>راه‌حل:</b>\n",
    "    کل شیء را به عنوان پارامتر به متد ارسال کنید.\n",
    "</div>"
   ]
  },
  {
   "cell_type": "markdown",
   "metadata": {},
   "source": [
    "```python\n",
    "within_plan = plan.within_range(daysTempRange())\n",
    "```"
   ]
  },
  {
   "cell_type": "markdown",
   "metadata": {},
   "source": [
    "<h3 dir=rtl>\n",
    "جایگزینی پارامتر با فراخوانی متد\n",
    "</h3>"
   ]
  },
  {
   "cell_type": "markdown",
   "metadata": {},
   "source": [
    "<div dir=rtl>\n",
    "<b>مسئله:</b>\n",
    "    یک شیء متدی را فراخوانی می‌کند، سپس نتیجه فراخوانی به عنوان پارامتر به یک متد دیگر داده می‌شود. همچنین متد فراخوانی شده خود می‌توانست متد اولیه را فراخوانی کند.\n",
    "</div>"
   ]
  },
  {
   "cell_type": "markdown",
   "metadata": {},
   "source": [
    "```python\n",
    "base_price = _quantity * _item_price\n",
    "discount_level = discount_level()\n",
    "final_price = dicounted_price(base_price, discount_level)\n",
    "```"
   ]
  },
  {
   "cell_type": "markdown",
   "metadata": {},
   "source": [
    "<div dir=rtl>\n",
    "<b>راه‌حل:</b>\n",
    "    پارامتر را حذف کنید و فراخوانی متد را داخل متد مورد نظر ببرید.\n",
    "</div>"
   ]
  },
  {
   "cell_type": "markdown",
   "metadata": {},
   "source": [
    "```python\n",
    "base_price = _quantity * _item_price\n",
    "final_price = discounted_price(base_price)\n",
    "```"
   ]
  }
 ],
 "metadata": {
  "kernelspec": {
   "display_name": "Python 3",
   "language": "python",
   "name": "python3"
  },
  "language_info": {
   "codemirror_mode": {
    "name": "ipython",
    "version": 3
   },
   "file_extension": ".py",
   "mimetype": "text/x-python",
   "name": "python",
   "nbconvert_exporter": "python",
   "pygments_lexer": "ipython3",
   "version": "3.7.3"
  }
 },
 "nbformat": 4,
 "nbformat_minor": 4
}
