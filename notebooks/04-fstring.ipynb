{
 "cells": [
  {
   "cell_type": "markdown",
   "metadata": {},
   "source": [
    "<h2 dir=rtl>\n",
    "قالب‌بندی رشته    \n",
    "</h2>"
   ]
  },
  {
   "cell_type": "markdown",
   "metadata": {},
   "source": [
    "<div dir=rtl>\n",
    "گاهی اوقات ما نیازمند کنترل بیشتری بر روی نمایش رشته هستیم. برای این کار قبل از شروع رشته از نشانه\n",
    "    <code>f</code>\n",
    "استفاده می‌کنیم. در داخل رشته هر آن‌چه که بین\n",
    "    <code>{</code>\n",
    "    و\n",
    "    <code>}</code>\n",
    "    قرار بگیرد، به عنوان متغیر محسوب می‌شود.\n",
    "</div>"
   ]
  },
  {
   "cell_type": "code",
   "execution_count": 1,
   "metadata": {},
   "outputs": [
    {
     "name": "stdout",
     "output_type": "stream",
     "text": [
      "Results of the 2020 Election\n"
     ]
    }
   ],
   "source": [
    "year = 2020\n",
    "event = \"Election\"\n",
    "print(f\"Results of the {year} {event}\")"
   ]
  },
  {
   "cell_type": "markdown",
   "metadata": {},
   "source": [
    "<div dir=rtl>\n",
    "در صورتی که به خواهیم خود متغیر از قالب خاصی پیروی کند. از \n",
    "    <code>:</code>\n",
    "    و سپس قالب مورد انتظار استفاده می‌کنیم.\n",
    "</div>"
   ]
  },
  {
   "cell_type": "code",
   "execution_count": 2,
   "metadata": {},
   "outputs": [
    {
     "name": "stdout",
     "output_type": "stream",
     "text": [
      "The value of pi is approximately 3.142\n"
     ]
    }
   ],
   "source": [
    "import math\n",
    "print(f\"The value of pi is approximately {math.pi:.3f}\")"
   ]
  },
  {
   "cell_type": "code",
   "execution_count": 3,
   "metadata": {},
   "outputs": [
    {
     "name": "stdout",
     "output_type": "stream",
     "text": [
      "002\n",
      "023\n",
      "541\n"
     ]
    }
   ],
   "source": [
    "num1 = 2\n",
    "num2 = 23\n",
    "num3 = 541\n",
    "print(f\"{num1:03d}\")\n",
    "print(f\"{num2:03d}\")\n",
    "print(f\"{num3:03d}\")"
   ]
  },
  {
   "cell_type": "code",
   "execution_count": 4,
   "metadata": {},
   "outputs": [
    {
     "name": "stdout",
     "output_type": "stream",
     "text": [
      "50.327%\n"
     ]
    }
   ],
   "source": [
    "yes_votes = 42_572_654\n",
    "no_votes = 43_132_495\n",
    "print(f\"{no_votes/(yes_votes + no_votes):2.3%}\")"
   ]
  },
  {
   "cell_type": "code",
   "execution_count": 5,
   "metadata": {},
   "outputs": [
    {
     "name": "stdout",
     "output_type": "stream",
     "text": [
      "2019-08-27 18:25:22.648996\n",
      "Aug 27, 2019\n"
     ]
    }
   ],
   "source": [
    "import datetime\n",
    "today =  datetime.datetime.today()\n",
    "print(today)\n",
    "print(f\"{today:%b %d, %Y}\")"
   ]
  }
 ],
 "metadata": {
  "kernelspec": {
   "display_name": "Python 3",
   "language": "python",
   "name": "python3"
  },
  "language_info": {
   "codemirror_mode": {
    "name": "ipython",
    "version": 3
   },
   "file_extension": ".py",
   "mimetype": "text/x-python",
   "name": "python",
   "nbconvert_exporter": "python",
   "pygments_lexer": "ipython3",
   "version": "3.7.3"
  }
 },
 "nbformat": 4,
 "nbformat_minor": 4
}
