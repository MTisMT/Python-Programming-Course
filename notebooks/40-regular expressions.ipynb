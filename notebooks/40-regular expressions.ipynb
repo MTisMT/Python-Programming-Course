{
 "cells": [
  {
   "cell_type": "markdown",
   "metadata": {},
   "source": [
    "<h2 dir=rtl>\n",
    "عبارات منظم\n",
    "</h2>"
   ]
  },
  {
   "cell_type": "markdown",
   "metadata": {},
   "source": [
    "<div dir=rtl>\n",
    "عبارات منظم با هدف تشخیص الگو مانند شناسایی شماره تلفن، ایمیل، آدرس اینترنتی و ... در متن‌ها است.\n",
    "</div>"
   ]
  },
  {
   "cell_type": "markdown",
   "metadata": {},
   "source": [
    "<div dir=rtl>\n",
    "برای بهره‌گیری از عبارات منظم در پایتون باید کتابخانه\n",
    "<code>re</code>\n",
    "را اضافه کنیم.\n",
    "</div>"
   ]
  },
  {
   "cell_type": "code",
   "execution_count": 1,
   "metadata": {},
   "outputs": [],
   "source": [
    "import re"
   ]
  },
  {
   "cell_type": "markdown",
   "metadata": {},
   "source": [
    "<div dir=rtl>\n",
    "برای تعریف یک الگو از دستور\n",
    "<code>compile</code>\n",
    "استفاده می‌کنیم.\n",
    "این دستور یک رشته به عنوان ورودی دریافت می‌کند. این رشته یک رشته معمولی نیست بلکه قرار است\n",
    "ساختاری که به دنبال آن هستیم را به ما نشان بدهد.\n",
    "به همین منظور قبل از آغاز رشته\n",
    "<code>r</code>\n",
    "می‌گذاریم.\n",
    "</div>"
   ]
  },
  {
   "cell_type": "code",
   "execution_count": 2,
   "metadata": {},
   "outputs": [
    {
     "name": "stdout",
     "output_type": "stream",
     "text": [
      "<re.Match object; span=(0, 3), match='abc'>\n"
     ]
    }
   ],
   "source": [
    "with open(\"./files/regex.txt\", 'r') as f:\n",
    "    contents = f.read()\n",
    "    pattern = re.compile(r'abc')\n",
    "    matches = pattern.finditer(contents)\n",
    "    for match in matches:\n",
    "        print(match)"
   ]
  },
  {
   "cell_type": "code",
   "execution_count": 3,
   "metadata": {},
   "outputs": [
    {
     "data": {
      "text/plain": [
       "'abc'"
      ]
     },
     "execution_count": 3,
     "metadata": {},
     "output_type": "execute_result"
    }
   ],
   "source": [
    "contents[0:3]"
   ]
  },
  {
   "cell_type": "markdown",
   "metadata": {},
   "source": [
    "<div dir=rtl>\n",
    "در عبارت منظم یک سری کاراکتر معنای خاصی دارند که در ادامه با آن‌ها آشنا می‌شویم.\n",
    "</div>"
   ]
  },
  {
   "cell_type": "markdown",
   "metadata": {},
   "source": [
    "|Symbol|Meaning|\n",
    "|:-----:|:----:|\n",
    "|.|Any Character Except New Line|\n",
    "|\\d|Digit (0-9)|\n",
    "|\\D|Not a Digit (0-9)|\n",
    "|\\w|Word Character (a-z, A-Z, 0-9, \\_) |\n",
    "|\\W|Not a Word Character|\n",
    "|\\s|Whitespace (space, tab, newline)|\n",
    "|\\S|Not Whitespace (space, tab, newline)|\n",
    "|\\b|Word Boundary|\n",
    "|\\B|Not a Word Boundary|\n",
    "|^|Beginning of a String|\n",
    "|$|End of a String|\n",
    "|[]|Matches Characters in brackets|\n",
    "|[^ ]|Matches Characters NOT in brackets|\n",
    "|I|Either Or|\n",
    "|()|Group|\n",
    "|\\*|0 or More|\n",
    "|+|1 or More|\n",
    "|?|0 or One|\n",
    "|{3}|Exact Number|\n",
    "|{3,4}|Range of Numbers (Minimum, Maximum)|"
   ]
  },
  {
   "cell_type": "code",
   "execution_count": 4,
   "metadata": {},
   "outputs": [
    {
     "name": "stdout",
     "output_type": "stream",
     "text": [
      "<re.Match object; span=(54, 58), match='1234'>\n",
      "<re.Match object; span=(58, 62), match='5678'>\n",
      "<re.Match object; span=(257, 261), match='1374'>\n"
     ]
    }
   ],
   "source": [
    "with open(\"./files/regex.txt\", 'r') as f:\n",
    "    contents = f.read()\n",
    "    pattern = re.compile(r'\\d\\d\\d\\d')\n",
    "    matches = pattern.finditer(contents)\n",
    "    for match in matches:\n",
    "        print(match)"
   ]
  },
  {
   "cell_type": "markdown",
   "metadata": {},
   "source": [
    "<div dir=rtl>\n",
    "عبارت منظم حساس به بزرگی و کوچکی حروف است.\n",
    "</div>"
   ]
  },
  {
   "cell_type": "code",
   "execution_count": 5,
   "metadata": {},
   "outputs": [
    {
     "name": "stdout",
     "output_type": "stream",
     "text": [
      "<re.Match object; span=(388, 392), match='.com'>\n"
     ]
    }
   ],
   "source": [
    "with open(\"./files/regex.txt\", 'r') as f:\n",
    "    contents = f.read()\n",
    "    pattern = re.compile(r'\\.com$')\n",
    "    matches = pattern.finditer(contents)\n",
    "    for match in matches:\n",
    "        print(match)"
   ]
  },
  {
   "cell_type": "code",
   "execution_count": 6,
   "metadata": {},
   "outputs": [
    {
     "name": "stdout",
     "output_type": "stream",
     "text": [
      "<re.Match object; span=(71, 75), match='PoPo'>\n",
      "<re.Match object; span=(76, 80), match='PoPo'>\n",
      "<re.Match object; span=(83, 87), match='PoPo'>\n"
     ]
    }
   ],
   "source": [
    "with open(\"./files/regex.txt\", 'r') as f:\n",
    "    contents = f.read()\n",
    "    pattern = re.compile(r'\\bPoPo')\n",
    "    matches = pattern.finditer(contents)\n",
    "    for match in matches:\n",
    "        print(match)"
   ]
  },
  {
   "cell_type": "code",
   "execution_count": 7,
   "metadata": {},
   "outputs": [
    {
     "name": "stdout",
     "output_type": "stream",
     "text": [
      "<re.Match object; span=(71, 75), match='PoPo'>\n",
      "<re.Match object; span=(83, 87), match='PoPo'>\n"
     ]
    }
   ],
   "source": [
    "with open(\"./files/regex.txt\", 'r') as f:\n",
    "    contents = f.read()\n",
    "    pattern = re.compile(r'\\bPoPo\\b')\n",
    "    matches = pattern.finditer(contents)\n",
    "    for match in matches:\n",
    "        print(match)"
   ]
  },
  {
   "cell_type": "markdown",
   "metadata": {},
   "source": [
    "<div dir=rtl>\n",
    "    <b>سوال:</b>\n",
    "شماره تلفن‌های ایران را با عبارت منظم تشخیص دهید.\n",
    "</div>"
   ]
  },
  {
   "cell_type": "code",
   "execution_count": 8,
   "metadata": {},
   "outputs": [
    {
     "name": "stdout",
     "output_type": "stream",
     "text": [
      "<re.Match object; span=(92, 109), match='+98 912-50-23-791'>\n",
      "<re.Match object; span=(110, 127), match='+98 939-66-45-228'>\n",
      "<re.Match object; span=(128, 145), match='+98 912-51-62-592'>\n"
     ]
    }
   ],
   "source": [
    "with open(\"./files/regex.txt\", 'r') as f:\n",
    "    contents = f.read()\n",
    "    pattern = re.compile(r'\\+98 \\d\\d\\d-\\d\\d-\\d\\d-\\d\\d\\d')\n",
    "    matches = pattern.finditer(contents)\n",
    "    for match in matches:\n",
    "        print(match)"
   ]
  },
  {
   "cell_type": "markdown",
   "metadata": {},
   "source": [
    "<div dir=rtl>\n",
    "کد بالا خوانا نیست. همچنین امکان اشتباه هم وجود دارد. می‌توانیم بهتر از این عمل کنیم.\n",
    "</div>"
   ]
  },
  {
   "cell_type": "code",
   "execution_count": 9,
   "metadata": {},
   "outputs": [
    {
     "name": "stdout",
     "output_type": "stream",
     "text": [
      "<re.Match object; span=(92, 109), match='+98 912-50-23-791'>\n",
      "<re.Match object; span=(110, 127), match='+98 939-66-45-228'>\n",
      "<re.Match object; span=(128, 145), match='+98 912-51-62-592'>\n"
     ]
    }
   ],
   "source": [
    "with open(\"./files/regex.txt\", 'r') as f:\n",
    "    contents = f.read()\n",
    "    pattern = re.compile(r'(\\+98) (\\d{3})-(\\d{2})-(\\d{2})-(\\d{3})')\n",
    "    matches = pattern.finditer(contents)\n",
    "    for match in matches:\n",
    "        print(match)"
   ]
  },
  {
   "cell_type": "markdown",
   "metadata": {},
   "source": [
    "<div dir=rtl>\n",
    "فرض کنید می‌خواهیم رقم‌های بین صفر تا پنج را تشخیص دهیم.\n",
    "</div>"
   ]
  },
  {
   "cell_type": "code",
   "execution_count": 10,
   "metadata": {},
   "outputs": [
    {
     "name": "stdout",
     "output_type": "stream",
     "text": [
      "<re.Match object; span=(54, 57), match='123'>\n"
     ]
    }
   ],
   "source": [
    "with open(\"./files/regex.txt\", 'r') as f:\n",
    "    contents = f.read()\n",
    "    pattern = re.compile(r'[1-5]{3}')\n",
    "    matches = pattern.finditer(contents)\n",
    "    for match in matches:\n",
    "        print(match)"
   ]
  },
  {
   "cell_type": "markdown",
   "metadata": {},
   "source": [
    "<div dir=rtl>\n",
    "می‌توانیم با استفاده از کروشه حروف کوچک و بزرگ را تشخیص دهیم.\n",
    "</div>"
   ]
  },
  {
   "cell_type": "code",
   "execution_count": 11,
   "metadata": {},
   "outputs": [
    {
     "name": "stdout",
     "output_type": "stream",
     "text": [
      "<re.Match object; span=(0, 10), match='abcdefghij'>\n",
      "<re.Match object; span=(10, 20), match='klmnopqrst'>\n",
      "<re.Match object; span=(27, 37), match='ABCDEFGHIJ'>\n",
      "<re.Match object; span=(37, 47), match='KLMNOPQRST'>\n",
      "<re.Match object; span=(151, 161), match='Aghamohamm'>\n",
      "<re.Match object; span=(200, 210), match='al.aghamoh'>\n",
      "<re.Match object; span=(227, 237), match='mohammad.o'>\n",
      "<re.Match object; span=(278, 288), match='f.gorbanpo'>\n",
      "<re.Match object; span=(302, 312), match='sharif.edu'>\n",
      "<re.Match object; span=(320, 330), match='sanjesh.or'>\n",
      "<re.Match object; span=(340, 350), match='bankmellat'>\n",
      "<re.Match object; span=(362, 372), match='www.google'>\n",
      "<re.Match object; span=(377, 387), match='www.youtub'>\n"
     ]
    }
   ],
   "source": [
    "with open(\"./files/regex.txt\", 'r') as f:\n",
    "    contents = f.read()\n",
    "    pattern = re.compile(r'[a-zA-z.]{10}')\n",
    "    matches = pattern.finditer(contents)\n",
    "    for match in matches:\n",
    "        print(match)"
   ]
  },
  {
   "cell_type": "markdown",
   "metadata": {},
   "source": [
    "<div dir=rtl>\n",
    "<b>سوال:</b>\n",
    "    اسامی افراد را با عبارت منظم تشخیص دهید.\n",
    "</div>"
   ]
  },
  {
   "cell_type": "code",
   "execution_count": 12,
   "metadata": {},
   "outputs": [
    {
     "name": "stdout",
     "output_type": "stream",
     "text": [
      "<re.Match object; span=(147, 164), match='Mr. Aghamohammadi'>\n",
      "<re.Match object; span=(165, 174), match='Mr Torabi'>\n",
      "<re.Match object; span=(175, 183), match='Ms Izadi'>\n",
      "<re.Match object; span=(184, 197), match='Mrs. Khosravi'>\n"
     ]
    }
   ],
   "source": [
    "with open(\"./files/regex.txt\", 'r') as f:\n",
    "    contents = f.read()\n",
    "    pattern = re.compile(r'(Mr\\.|Mrs\\.|Mr|Ms) [A-Z][a-z]{2,}')\n",
    "    matches = pattern.finditer(contents)\n",
    "    for match in matches:\n",
    "        print(match)"
   ]
  },
  {
   "cell_type": "markdown",
   "metadata": {},
   "source": [
    "<div dir=rtl>\n",
    "<b>سوال:</b>\n",
    "    عبارت منظمی بنویسید که ایمیل افراد را استخراج کند.\n",
    "</div>"
   ]
  },
  {
   "cell_type": "code",
   "execution_count": 13,
   "metadata": {},
   "outputs": [
    {
     "name": "stdout",
     "output_type": "stream",
     "text": [
      "<re.Match object; span=(200, 226), match='al.aghamohammadi@gmail.com'>\n",
      "<re.Match object; span=(227, 253), match='mohammad.ostad73@gmail.com'>\n",
      "<re.Match object; span=(254, 277), match='ali1374karimi@gmail.com'>\n",
      "<re.Match object; span=(278, 299), match='f.gorbanpor@yahoo.com'>\n"
     ]
    }
   ],
   "source": [
    "with open(\"./files/regex.txt\", 'r') as f:\n",
    "    contents = f.read()\n",
    "    pattern = re.compile(r'[a-zA-Z][a-zA-Z0-9.]*@[a-zA-Z]+\\.(com|edu|net|ir)')\n",
    "    matches = pattern.finditer(contents)\n",
    "    for match in matches:\n",
    "        print(match)"
   ]
  },
  {
   "cell_type": "markdown",
   "metadata": {},
   "source": [
    "<div dir=rtl>\n",
    "<b>سوال:</b>\n",
    "    عبارت منظمی بنویسید که آدرس اینترنتی را بازیابی کند.\n",
    "</div>"
   ]
  },
  {
   "cell_type": "code",
   "execution_count": 14,
   "metadata": {},
   "outputs": [
    {
     "name": "stdout",
     "output_type": "stream",
     "text": [
      "<re.Match object; span=(302, 312), match='sharif.edu'>\n",
      "<re.Match object; span=(313, 331), match='http://sanjesh.org'>\n",
      "<re.Match object; span=(332, 353), match='https://bankmellat.ir'>\n",
      "<re.Match object; span=(354, 376), match='https://www.google.com'>\n",
      "<re.Match object; span=(377, 392), match='www.youtube.com'>\n"
     ]
    }
   ],
   "source": [
    "with open(\"./files/regex.txt\", 'r') as f:\n",
    "    contents = f.read()\n",
    "    pattern = re.compile(r'(?<!.)(http://|https://)?(www.)?\\b[a-zA-Z]+\\.(edu|ir|com|org)')\n",
    "    matches = pattern.finditer(contents)\n",
    "    for match in matches:\n",
    "        print(match)"
   ]
  },
  {
   "cell_type": "markdown",
   "metadata": {},
   "source": [
    "<div dir=rtl>\n",
    "در عبارت منظم، مفهومی به نام\n",
    "<code>group</code>\n",
    "وجود دارد.\n",
    "</div>"
   ]
  },
  {
   "cell_type": "code",
   "execution_count": 15,
   "metadata": {},
   "outputs": [
    {
     "name": "stdout",
     "output_type": "stream",
     "text": [
      "sharif\n",
      "sharif\n",
      "sanjesh\n",
      "sanjesh\n",
      "bankmellat\n",
      "bankmellat\n",
      "google\n",
      "google\n",
      "youtube\n",
      "youtube\n"
     ]
    }
   ],
   "source": [
    "with open(\"./files/regex.txt\", 'r') as f:\n",
    "    contents = f.read()\n",
    "    pattern = re.compile(r'(?<!.)(http://|https://)?(www.)?(?P<name>[a-zA-Z]+)(?P<dot>\\.)(?P<domain>edu|ir|com|org)')\n",
    "    matches = pattern.finditer(contents)\n",
    "    for match in matches:\n",
    "        print(match.group(3))\n",
    "        print(match.group('name'))"
   ]
  },
  {
   "cell_type": "code",
   "execution_count": 16,
   "metadata": {},
   "outputs": [
    {
     "name": "stdout",
     "output_type": "stream",
     "text": [
      "sharif.edu\n",
      "sanjesh.org\n",
      "bankmellat.ir\n",
      "google.com\n",
      "youtube.com\n"
     ]
    }
   ],
   "source": [
    "with open(\"./files/regex.txt\", 'r') as f:\n",
    "    contents = f.read()\n",
    "    pattern = re.compile(r'(?<!.)(http://|https://)?(www.)?(?P<name>[a-zA-Z]+)(?P<dot>\\.)(?P<domain>edu|ir|com|org)')\n",
    "    matches = pattern.finditer(contents)\n",
    "    for match in matches:\n",
    "        print(pattern.sub(r'\\g<name>\\g<dot>\\g<domain>', match.group()))"
   ]
  },
  {
   "cell_type": "markdown",
   "metadata": {},
   "source": [
    "<div dir=rtl>\n",
    "تعدادی دستور دیگر نیز برای عبارت‌های منظم وجود دارد.\n",
    "</div>"
   ]
  },
  {
   "cell_type": "code",
   "execution_count": 17,
   "metadata": {},
   "outputs": [
    {
     "data": {
      "text/plain": [
       "[('', '', 'sharif', '.', 'edu'),\n",
       " ('http://', '', 'sanjesh', '.', 'org'),\n",
       " ('https://', '', 'bankmellat', '.', 'ir'),\n",
       " ('https://', 'www.', 'google', '.', 'com'),\n",
       " ('', 'www.', 'youtube', '.', 'com')]"
      ]
     },
     "execution_count": 17,
     "metadata": {},
     "output_type": "execute_result"
    }
   ],
   "source": [
    "pattern.findall(contents)"
   ]
  },
  {
   "cell_type": "code",
   "execution_count": 18,
   "metadata": {},
   "outputs": [
    {
     "data": {
      "text/plain": [
       "<re.Match object; span=(302, 312), match='sharif.edu'>"
      ]
     },
     "execution_count": 18,
     "metadata": {},
     "output_type": "execute_result"
    }
   ],
   "source": [
    "pattern.search(contents)"
   ]
  }
 ],
 "metadata": {
  "kernelspec": {
   "display_name": "Python 3",
   "language": "python",
   "name": "python3"
  },
  "language_info": {
   "codemirror_mode": {
    "name": "ipython",
    "version": 3
   },
   "file_extension": ".py",
   "mimetype": "text/x-python",
   "name": "python",
   "nbconvert_exporter": "python",
   "pygments_lexer": "ipython3",
   "version": "3.7.3"
  }
 },
 "nbformat": 4,
 "nbformat_minor": 4
}
