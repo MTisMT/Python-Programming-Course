{
 "cells": [
  {
   "cell_type": "markdown",
   "metadata": {},
   "source": [
    "<div dir=rtl>\n",
    "در پایتون متدهایی که به شکل \n",
    "<code>__methodname__</code>\n",
    "اند،\n",
    "دارای معنای خاصی هستند.\n",
    "    پیش از این با دو متد\n",
    "    <code>__str__</code>\n",
    "    و\n",
    "    <code>__repr__</code>\n",
    "    آشنا شده‌ایم.\n",
    "امروز با برخی دیگر از این متدها آشنا می‌شویم.\n",
    "</div>"
   ]
  },
  {
   "cell_type": "code",
   "execution_count": 1,
   "metadata": {},
   "outputs": [],
   "source": [
    "class Student:\n",
    "    def __init__(self, name, grades):\n",
    "        self.name = name\n",
    "        self.grades = grades\n",
    "    \n",
    "    @property\n",
    "    def name(self):\n",
    "        return self.__name\n",
    "    \n",
    "    @name.setter\n",
    "    def name(self, name):\n",
    "        if isinstance(name,str) and len(name) >=0:\n",
    "            self.__name = name\n",
    "        else:\n",
    "            raise ValueError(\"The name is invalid\")\n",
    "    \n",
    "    @property\n",
    "    def gpa(self):\n",
    "        return sum(self.grades) / len(self.grades)\n",
    "    \n",
    "    def __eq__(self, other):\n",
    "        \"\"\"Equal\"\"\"\n",
    "        return self.gpa == other.gpa\n",
    "    \n",
    "    def __le__(self, other):\n",
    "        \"\"\"Less than or equal\"\"\"\n",
    "        return self.gpa <= other.gpa\n",
    "    \n",
    "    def __lt__(self, other):\n",
    "        \"\"\"Less than\"\"\"\n",
    "        return self.gpa < other.gpa\n",
    "    \n",
    "    def __ge__(self, other):\n",
    "        \"\"\"Greater than or equal\"\"\"\n",
    "        return self.gpa >= other.gpa\n",
    "\n",
    "    def __gt__(self, other):\n",
    "        \"\"\"Greater than\"\"\"\n",
    "        return self.gpa > other.gpa"
   ]
  },
  {
   "cell_type": "code",
   "execution_count": 2,
   "metadata": {},
   "outputs": [],
   "source": [
    "s1 = Student(\"Alireza\", [17, 20, 19, 12])\n",
    "s2 = Student(\"Maliheh\", [18, 20, 20, 20])"
   ]
  },
  {
   "cell_type": "code",
   "execution_count": 3,
   "metadata": {},
   "outputs": [
    {
     "data": {
      "text/plain": [
       "False"
      ]
     },
     "execution_count": 3,
     "metadata": {},
     "output_type": "execute_result"
    }
   ],
   "source": [
    "s1 == s2"
   ]
  },
  {
   "cell_type": "code",
   "execution_count": 4,
   "metadata": {},
   "outputs": [
    {
     "data": {
      "text/plain": [
       "True"
      ]
     },
     "execution_count": 4,
     "metadata": {},
     "output_type": "execute_result"
    }
   ],
   "source": [
    "s1 != s2"
   ]
  },
  {
   "cell_type": "code",
   "execution_count": 5,
   "metadata": {},
   "outputs": [
    {
     "data": {
      "text/plain": [
       "True"
      ]
     },
     "execution_count": 5,
     "metadata": {},
     "output_type": "execute_result"
    }
   ],
   "source": [
    "s1 <= s2"
   ]
  },
  {
   "cell_type": "code",
   "execution_count": 6,
   "metadata": {},
   "outputs": [
    {
     "data": {
      "text/plain": [
       "True"
      ]
     },
     "execution_count": 6,
     "metadata": {},
     "output_type": "execute_result"
    }
   ],
   "source": [
    "s1 < s2"
   ]
  },
  {
   "cell_type": "code",
   "execution_count": 7,
   "metadata": {},
   "outputs": [
    {
     "data": {
      "text/plain": [
       "False"
      ]
     },
     "execution_count": 7,
     "metadata": {},
     "output_type": "execute_result"
    }
   ],
   "source": [
    "s1 >= s2"
   ]
  },
  {
   "cell_type": "code",
   "execution_count": 8,
   "metadata": {},
   "outputs": [
    {
     "data": {
      "text/plain": [
       "False"
      ]
     },
     "execution_count": 8,
     "metadata": {},
     "output_type": "execute_result"
    }
   ],
   "source": [
    "s1 > s2"
   ]
  }
 ],
 "metadata": {
  "kernelspec": {
   "display_name": "Python 3",
   "language": "python",
   "name": "python3"
  },
  "language_info": {
   "codemirror_mode": {
    "name": "ipython",
    "version": 3
   },
   "file_extension": ".py",
   "mimetype": "text/x-python",
   "name": "python",
   "nbconvert_exporter": "python",
   "pygments_lexer": "ipython3",
   "version": "3.7.3"
  }
 },
 "nbformat": 4,
 "nbformat_minor": 4
}
