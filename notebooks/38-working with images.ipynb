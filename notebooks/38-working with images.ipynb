{
 "cells": [
  {
   "cell_type": "markdown",
   "metadata": {},
   "source": [
    "<h2 dir=rtl>\n",
    "کار با عکس‌ها\n",
    "</h2>"
   ]
  },
  {
   "cell_type": "markdown",
   "metadata": {},
   "source": [
    "<div dir=rtl>\n",
    "فرض کنید که می‌خواهیم یک عکس را بخوانیم و یک کپی از آن درست کنیم.\n",
    "از آن‌جایی که عکس یک فایل باینری است. دیگر نمی‌توانیم آن را در حالت\n",
    "<code>r</code>\n",
    "باز کنیم. بلکه باید آن را در حالت\n",
    "<code>rb</code>\n",
    "باز کنیم.\n",
    "</div>"
   ]
  },
  {
   "cell_type": "code",
   "execution_count": 1,
   "metadata": {},
   "outputs": [],
   "source": [
    "with open('./files/Alireza.jpg', 'rb') as rf:\n",
    "    with open('./files/Alireza_copy.jpg', 'wb') as wf:\n",
    "        for line in rf:\n",
    "            wf.write(line)"
   ]
  },
  {
   "cell_type": "code",
   "execution_count": 2,
   "metadata": {},
   "outputs": [],
   "source": [
    "with open('./files/Alireza.jpg', 'rb') as rf:\n",
    "    with open('./files/Alireza_copy.jpg', 'wb') as wf:\n",
    "        chunk_size = 4096\n",
    "        read_chunk = rf.read(chunk_size)\n",
    "        while len(read_chunk) > 0:\n",
    "            wf.write(read_chunk)\n",
    "            read_chunk = rf.read(chunk_size)"
   ]
  },
  {
   "cell_type": "markdown",
   "metadata": {},
   "source": [
    "<div dir=rtl>\n",
    "برای کار با فایل‌های عکس، کتابخانه \n",
    "<code>pillow</code>\n",
    "وجود دارد.\n",
    "</div>"
   ]
  },
  {
   "cell_type": "code",
   "execution_count": 3,
   "metadata": {},
   "outputs": [],
   "source": [
    "from PIL import Image\n",
    "import os\n",
    "os.chdir('./files/')"
   ]
  },
  {
   "cell_type": "code",
   "execution_count": 4,
   "metadata": {},
   "outputs": [
    {
     "data": {
      "text/plain": [
       "'D:\\\\Workspace\\\\Dev\\\\Python\\\\tutor\\\\notebooks\\\\files'"
      ]
     },
     "execution_count": 4,
     "metadata": {},
     "output_type": "execute_result"
    }
   ],
   "source": [
    "os.getcwd()"
   ]
  },
  {
   "cell_type": "code",
   "execution_count": 5,
   "metadata": {},
   "outputs": [],
   "source": [
    "i = Image.open(\"Alireza.jpg\")\n",
    "i.show()"
   ]
  },
  {
   "cell_type": "code",
   "execution_count": 6,
   "metadata": {},
   "outputs": [],
   "source": [
    "i.save('Alireza_copy.png')"
   ]
  },
  {
   "cell_type": "markdown",
   "metadata": {},
   "source": [
    "<div dir=rtl>\n",
    "<b>سوال:</b>\n",
    "    فایل‌های عکس یک پوشه را از پسوند\n",
    "    <code>jpg</code>\n",
    "    خوانده و یک کپی با پسوند\n",
    "    <code>png</code>\n",
    "    بسازید.\n",
    "</div>"
   ]
  },
  {
   "cell_type": "code",
   "execution_count": 7,
   "metadata": {},
   "outputs": [],
   "source": [
    "for f in os.listdir('.'):\n",
    "    if f.endswith('.jpg'):\n",
    "        i = Image.open(f)\n",
    "        fn, fext = os.path.splitext(f)\n",
    "        i.save(f\"./png/{fn}.png\")"
   ]
  },
  {
   "cell_type": "markdown",
   "metadata": {},
   "source": [
    "<div dir=rtl>\n",
    "با استفاده از این کتابخانه می‌توانیم عکس‌هایی در ابعاد مورد نظر ایجاد کنیم.\n",
    "</div>"
   ]
  },
  {
   "cell_type": "code",
   "execution_count": 8,
   "metadata": {},
   "outputs": [],
   "source": [
    "size_300 = (300, 300)\n",
    "size_700 = (700, 700)\n",
    "for f in os.listdir(\".\"):\n",
    "    if f.endswith('.jpg'):\n",
    "        i = Image.open(f)\n",
    "        fn, fext = os.path.splitext(f)\n",
    "        i.thumbnail(size_300)\n",
    "        i.save(f\"300/{fn}_300{fext}\")\n",
    "        i = Image.open(f)\n",
    "        fn, fext = os.path.splitext(f)\n",
    "        i.thumbnail(size_700)\n",
    "        i.save(f\"700/{fn}_700{fext}\")"
   ]
  }
 ],
 "metadata": {
  "kernelspec": {
   "display_name": "Python 3",
   "language": "python",
   "name": "python3"
  },
  "language_info": {
   "codemirror_mode": {
    "name": "ipython",
    "version": 3
   },
   "file_extension": ".py",
   "mimetype": "text/x-python",
   "name": "python",
   "nbconvert_exporter": "python",
   "pygments_lexer": "ipython3",
   "version": "3.7.3"
  }
 },
 "nbformat": 4,
 "nbformat_minor": 4
}
