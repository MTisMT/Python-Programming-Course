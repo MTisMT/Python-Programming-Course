{
 "cells": [
  {
   "cell_type": "markdown",
   "metadata": {},
   "source": [
    "<h2 dir=rtl>\n",
    "مرور\n",
    "</h2>"
   ]
  },
  {
   "cell_type": "markdown",
   "metadata": {},
   "source": [
    "<div dir=rtl>\n",
    "    <b>سوال:</b>\n",
    "با استفاده از اعداد تصادفی عدد پی را تخمین بزنید.\n",
    "</div>"
   ]
  },
  {
   "cell_type": "markdown",
   "metadata": {},
   "source": [
    "<div dir=rtl>\n",
    "<b>پاسخ:</b>\n",
    "    ابتدا لازم است که با اعداد تصادفی آشنا شویم.\n",
    "</div>"
   ]
  },
  {
   "cell_type": "code",
   "execution_count": 1,
   "metadata": {},
   "outputs": [],
   "source": [
    "import numpy as np"
   ]
  },
  {
   "cell_type": "code",
   "execution_count": 2,
   "metadata": {},
   "outputs": [
    {
     "data": {
      "text/plain": [
       "array([[0.83614487, 0.01379773, 0.17988455],\n",
       "       [0.42502816, 0.21644981, 0.32687251]])"
      ]
     },
     "execution_count": 2,
     "metadata": {},
     "output_type": "execute_result"
    }
   ],
   "source": [
    "np.random.rand(2, 3)"
   ]
  },
  {
   "cell_type": "code",
   "execution_count": 3,
   "metadata": {},
   "outputs": [
    {
     "data": {
      "text/plain": [
       "array([[ 1.17958645, -0.76929463,  0.41231559],\n",
       "       [ 0.19754894, -0.69061039,  0.9206211 ]])"
      ]
     },
     "execution_count": 3,
     "metadata": {},
     "output_type": "execute_result"
    }
   ],
   "source": [
    "np.random.randn(2, 3)"
   ]
  },
  {
   "cell_type": "code",
   "execution_count": 4,
   "metadata": {},
   "outputs": [
    {
     "data": {
      "text/plain": [
       "array([[1.92985757, 1.67278487, 3.15904974],\n",
       "       [1.15715402, 2.56936533, 4.59798619]])"
      ]
     },
     "execution_count": 4,
     "metadata": {},
     "output_type": "execute_result"
    }
   ],
   "source": [
    "np.random.uniform(1, 5, (2, 3))"
   ]
  },
  {
   "cell_type": "markdown",
   "metadata": {},
   "source": [
    "<div dir=rtl>\n",
    "برای حل مسئله یاد‌شده، ۱۰۰۰۰۰۰ نقطه تصادفی محدود به مربعی به مساحت یک تولید می‌کنیم. نسبتی از نقاط که در ربع دایره محاط در مربع قرار می‌گیرند برابر است با نسبت مساحت آن ربع دایره.\n",
    "به عبارت دیگر این نسبت برابر است با\n",
    "    $\\frac{\\pi}{4}$.\n",
    "</div>"
   ]
  },
  {
   "cell_type": "code",
   "execution_count": 5,
   "metadata": {},
   "outputs": [
    {
     "name": "stdout",
     "output_type": "stream",
     "text": [
      "PI is approximately 3.14\n"
     ]
    }
   ],
   "source": [
    "total_numbers = 1000000\n",
    "count = 0\n",
    "xpoints = np.random.rand(total_numbers)\n",
    "ypoints = np.random.rand(total_numbers)\n",
    "for x, y in zip(xpoints, ypoints):\n",
    "    if (x ** 2 + y ** 2) <= 1:\n",
    "        count += 1\n",
    "print(f\"PI is approximately {4 * (count/total_numbers):.2f}\")"
   ]
  }
 ],
 "metadata": {
  "kernelspec": {
   "display_name": "Python 3",
   "language": "python",
   "name": "python3"
  },
  "language_info": {
   "codemirror_mode": {
    "name": "ipython",
    "version": 3
   },
   "file_extension": ".py",
   "mimetype": "text/x-python",
   "name": "python",
   "nbconvert_exporter": "python",
   "pygments_lexer": "ipython3",
   "version": "3.7.3"
  }
 },
 "nbformat": 4,
 "nbformat_minor": 4
}
