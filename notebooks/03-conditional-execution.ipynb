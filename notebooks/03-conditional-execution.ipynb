{
 "cells": [
  {
   "cell_type": "markdown",
   "metadata": {},
   "source": [
    "<div dir=rtl>\n",
    "    در ادامه عملگرهای منطقی آمده است.\n",
    "    </div>"
   ]
  },
  {
   "cell_type": "markdown",
   "metadata": {},
   "source": [
    "- and\n",
    "- or\n",
    "- not\n",
    "- is"
   ]
  },
  {
   "cell_type": "code",
   "execution_count": null,
   "metadata": {},
   "outputs": [],
   "source": [
    "True and True"
   ]
  },
  {
   "cell_type": "code",
   "execution_count": null,
   "metadata": {},
   "outputs": [],
   "source": [
    "True and False"
   ]
  },
  {
   "cell_type": "code",
   "execution_count": null,
   "metadata": {},
   "outputs": [],
   "source": [
    "False and False"
   ]
  },
  {
   "cell_type": "code",
   "execution_count": null,
   "metadata": {},
   "outputs": [],
   "source": [
    "True or True"
   ]
  },
  {
   "cell_type": "code",
   "execution_count": null,
   "metadata": {},
   "outputs": [],
   "source": [
    "True or False"
   ]
  },
  {
   "cell_type": "code",
   "execution_count": null,
   "metadata": {},
   "outputs": [],
   "source": [
    "False or False"
   ]
  },
  {
   "cell_type": "code",
   "execution_count": null,
   "metadata": {},
   "outputs": [],
   "source": [
    "not True"
   ]
  },
  {
   "cell_type": "code",
   "execution_count": null,
   "metadata": {},
   "outputs": [],
   "source": [
    "not False"
   ]
  },
  {
   "cell_type": "code",
   "execution_count": null,
   "metadata": {},
   "outputs": [],
   "source": [
    "a = 1005\n",
    "b = 1005\n",
    "print(id(a))\n",
    "print(id(b))\n",
    "print(a is b)"
   ]
  },
  {
   "cell_type": "markdown",
   "metadata": {},
   "source": [
    "<div dir=rtl>\n",
    "    <b>توجه:</b>\n",
    "    اعداد غیر صفر به درست ارزیابی می‌شوند.\n",
    "    </div>"
   ]
  },
  {
   "cell_type": "code",
   "execution_count": null,
   "metadata": {},
   "outputs": [],
   "source": [
    "5 and True"
   ]
  },
  {
   "cell_type": "code",
   "execution_count": null,
   "metadata": {},
   "outputs": [],
   "source": [
    "5 and 0"
   ]
  },
  {
   "cell_type": "markdown",
   "metadata": {},
   "source": [
    "<div dir=rtl>\n",
    "    <b>سوال:</b>\n",
    "    خروجی برنامه زیر چیست؟\n",
    "</div>"
   ]
  },
  {
   "cell_type": "markdown",
   "metadata": {},
   "source": [
    "```python\n",
    "x = 10\n",
    "if x > 0:\n",
    "    print('x is positive')\n",
    "```"
   ]
  },
  {
   "cell_type": "markdown",
   "metadata": {},
   "source": [
    "<div dir=rtl>\n",
    "    <b>سوال:</b>\n",
    "    خروجی برنامه زیر چیست؟\n",
    "</div>"
   ]
  },
  {
   "cell_type": "markdown",
   "metadata": {},
   "source": [
    "```python\n",
    "if False:\n",
    "    print('This statement is not running!')\n",
    "```"
   ]
  },
  {
   "cell_type": "markdown",
   "metadata": {},
   "source": [
    "<div dir=rtl>\n",
    "    <b>سوال:</b>\n",
    "   برنامه‌ای بنویسید که عددی از کاربر دریافت کند و بررسی کند که آیا عدد زوج است یا فرد\n",
    "</div>"
   ]
  },
  {
   "cell_type": "code",
   "execution_count": null,
   "metadata": {},
   "outputs": [],
   "source": [
    "x = input(\"Enter integer: \")\n",
    "x = int(x)\n",
    "if x % 2 == 0:\n",
    "    print('x is even')\n",
    "else:\n",
    "    print('x is odd')"
   ]
  },
  {
   "cell_type": "markdown",
   "metadata": {},
   "source": [
    "<div dir=rtl>\n",
    "    <b>سوال:</b>\n",
    "    خروجی برنامه زیر چیست؟\n",
    "</div>"
   ]
  },
  {
   "cell_type": "markdown",
   "metadata": {},
   "source": [
    "```python\n",
    "x = 10\n",
    "y = 5\n",
    "if x < y:\n",
    "    print('x is less than y')\n",
    "elif x > y:\n",
    "    print('x is greater than y')\n",
    "else:\n",
    "    print('x and y are equal')\n",
    "```"
   ]
  },
  {
   "cell_type": "markdown",
   "metadata": {},
   "source": [
    "<div dir=rtl>\n",
    "    <b>سوال:</b>\n",
    "    خروجی برنامه زیر چیست؟\n",
    "</div>"
   ]
  },
  {
   "cell_type": "markdown",
   "metadata": {},
   "source": [
    "```python\n",
    "language = \"Scala\"\n",
    "if language == \"Python\":\n",
    "    print(\"Language is Python\")\n",
    "elif language == \"Java\":\n",
    "    print(\"Language is Java\")\n",
    "else:\n",
    "    print(\"No match!\")\n",
    "```"
   ]
  },
  {
   "cell_type": "markdown",
   "metadata": {},
   "source": [
    "<div dir=rtl>\n",
    "    <b>سوال:</b>\n",
    "    برنامه‌ای بنویسید که بررسی کند آیا متغیر بین صفر و ده قرار دارد یا خیر.\n",
    "</div>"
   ]
  },
  {
   "cell_type": "code",
   "execution_count": null,
   "metadata": {},
   "outputs": [],
   "source": [
    "x = 12\n",
    "if x > 0 and x < 10:\n",
    "    print('x is a positive single-digit number.')"
   ]
  },
  {
   "cell_type": "markdown",
   "metadata": {},
   "source": [
    "<div dir=rtl>\n",
    "    <b>سوال:</b>\n",
    "    خروجی برنامه زیر چیست؟\n",
    "</div>"
   ]
  },
  {
   "cell_type": "markdown",
   "metadata": {},
   "source": [
    "```python\n",
    "x = 1\n",
    "y = 0\n",
    "x >=2 and (x/y) > 2\n",
    "```\n",
    "```python\n",
    "x = 6\n",
    "y = 0\n",
    "x >=2 and (x/y) > 2\n",
    "```"
   ]
  },
  {
   "cell_type": "markdown",
   "metadata": {},
   "source": [
    "<div dir=rtl>\n",
    "    <b>سوال:</b>\n",
    "   برنامه‌ای بنویسید که بررسی کند که آیا کاربر ادمین است و همچنین به سیستم ورود کرده است یا خیر.\n",
    "</div>"
   ]
  },
  {
   "cell_type": "code",
   "execution_count": null,
   "metadata": {},
   "outputs": [],
   "source": [
    "user = \"admin\"\n",
    "logged_in = True\n",
    "if user == \"admin\" and logged_in:\n",
    "    print(\"Admin Page\")\n",
    "else:\n",
    "    print(\"Bad Creds\")"
   ]
  },
  {
   "cell_type": "markdown",
   "metadata": {},
   "source": [
    "<div dir=rtl>\n",
    "    <b>سوال:</b>\n",
    "برنامه‌ای بنویسید که میزان حقوق دریافتی فردی را برای ساعاتی که بیش از ۴۰ ساعت در هفته است را ۱.۵ برابر محاسبه کند.\n",
    "</div>"
   ]
  },
  {
   "cell_type": "code",
   "execution_count": null,
   "metadata": {},
   "outputs": [],
   "source": [
    "hours = input(\"Enter hours: \")\n",
    "rate = input(\"Enter rate: \")\n",
    "hours = float(hours)\n",
    "rate = float(rate)\n",
    "if hours >= 0 and hours <= 40:\n",
    "    print(\"Pay:\",rate * hours)\n",
    "else:\n",
    "    print(\"Pay:\",(hours - 40) * rate * 0.5 + hours * rate)"
   ]
  },
  {
   "cell_type": "markdown",
   "metadata": {},
   "source": [
    "<div dir=rtl>\n",
    "    <b>سوال:</b>\n",
    "    برنامه‌ای بنویسید که مطابق جدول زیر به افزاد نمره دهد.\n",
    "</div>"
   ]
  },
  {
   "cell_type": "markdown",
   "metadata": {},
   "source": [
    "|Score|Grade|\n",
    "|:---:|:---:|\n",
    "|>=0.9|A|\n",
    "|>=0.8|B|\n",
    "|>=0.7|C|\n",
    "|>=0.6|D|\n",
    "|<0.6|F|"
   ]
  },
  {
   "cell_type": "code",
   "execution_count": null,
   "metadata": {},
   "outputs": [],
   "source": [
    "score = input(\"Enter score: \")\n",
    "score = float(score)\n",
    "if score >1 or score <0:\n",
    "    print(\"Bad Score\")\n",
    "elif score >= 0.9:\n",
    "    print(\"A\")\n",
    "elif score >= 0.8:\n",
    "    print(\"B\")\n",
    "elif score >= 0.7:\n",
    "    print(\"C\")\n",
    "elif score >= 0.6:\n",
    "    print(\"D\")\n",
    "elif score < 0.6:\n",
    "    print(\"F\")"
   ]
  }
 ],
 "metadata": {
  "kernelspec": {
   "display_name": "Python 3",
   "language": "python",
   "name": "python3"
  },
  "language_info": {
   "codemirror_mode": {
    "name": "ipython",
    "version": 3
   },
   "file_extension": ".py",
   "mimetype": "text/x-python",
   "name": "python",
   "nbconvert_exporter": "python",
   "pygments_lexer": "ipython3",
   "version": "3.7.3"
  }
 },
 "nbformat": 4,
 "nbformat_minor": 4
}
