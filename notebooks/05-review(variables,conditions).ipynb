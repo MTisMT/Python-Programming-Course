{
 "cells": [
  {
   "cell_type": "markdown",
   "metadata": {},
   "source": [
    "<h1 dir=rtl>\n",
    "مرور\n",
    "</h1>"
   ]
  },
  {
   "cell_type": "markdown",
   "metadata": {},
   "source": [
    "<div dir=rtl>\n",
    "در این بخش با حل چند مسئله مروری بر جلسات گذشته می‌کنیم.\n",
    "</div>"
   ]
  },
  {
   "cell_type": "markdown",
   "metadata": {},
   "source": [
    "<div dir=rtl>\n",
    "<b> سوال:</b>\n",
    "فرض کنید متغیرهای\n",
    "$x$\n",
    "و\n",
    "$y$\n",
    "را در اختیار دارید.\n",
    "برنامه‌ای بنویسید که مقادیر این دو متغیر را جابجا کند.\n",
    "</div>\n",
    "<div dir=rtl>\n",
    "    <b> پاسخ:</b>\n",
    "    چهار راه‌حل متفاوت برای این مسئله ارائه می‌کنیم. راه‌حل اول پاسخ مرسوم زبان‌های برنامه‌نویسی است. راه دوم و سوم اگرچه هوشمندانه است ولیکن نباید آن را در کد محصول به کار برد. زیرا کد خوانا نیست. هدف از ارائه آن صرفاً جنبه‌های آموزشی آن است.\n",
    "راه‌حل چهارم، پاسخ درست این مسئله در زبان برنامه‌نویسی پایتون است.\n",
    "</div>"
   ]
  },
  {
   "cell_type": "markdown",
   "metadata": {},
   "source": [
    "<div dir=rtl>\n",
    "<b> راه‌حل اول:</b>\n",
    "</div>"
   ]
  },
  {
   "cell_type": "code",
   "execution_count": 1,
   "metadata": {},
   "outputs": [
    {
     "name": "stdout",
     "output_type": "stream",
     "text": [
      "5\n",
      "6\n"
     ]
    }
   ],
   "source": [
    "x = 5\n",
    "y = 6\n",
    "print(x)\n",
    "print(y)"
   ]
  },
  {
   "cell_type": "code",
   "execution_count": 2,
   "metadata": {},
   "outputs": [
    {
     "name": "stdout",
     "output_type": "stream",
     "text": [
      "6\n",
      "5\n"
     ]
    }
   ],
   "source": [
    "temp = x\n",
    "x = y\n",
    "y = temp\n",
    "print(x)\n",
    "print(y)"
   ]
  },
  {
   "cell_type": "markdown",
   "metadata": {},
   "source": [
    "<div dir=rtl>\n",
    "<b> راه‌حل دوم:</b>\n",
    "</div>"
   ]
  },
  {
   "cell_type": "code",
   "execution_count": 3,
   "metadata": {},
   "outputs": [
    {
     "name": "stdout",
     "output_type": "stream",
     "text": [
      "5\n",
      "6\n"
     ]
    }
   ],
   "source": [
    "x = 5\n",
    "y = 6\n",
    "print(x)\n",
    "print(y)"
   ]
  },
  {
   "cell_type": "code",
   "execution_count": 4,
   "metadata": {},
   "outputs": [
    {
     "name": "stdout",
     "output_type": "stream",
     "text": [
      "6\n",
      "5\n"
     ]
    }
   ],
   "source": [
    "x = x + y\n",
    "y = x - y\n",
    "x = x - y\n",
    "print(x)\n",
    "print(y)"
   ]
  },
  {
   "cell_type": "markdown",
   "metadata": {},
   "source": [
    "<div dir=rtl>\n",
    "<b>راه‌حل سوم:</b>    \n",
    "</div> "
   ]
  },
  {
   "cell_type": "code",
   "execution_count": 5,
   "metadata": {},
   "outputs": [
    {
     "name": "stdout",
     "output_type": "stream",
     "text": [
      "5\n",
      "6\n"
     ]
    }
   ],
   "source": [
    "x = 5\n",
    "y = 6\n",
    "print(x)\n",
    "print(y)"
   ]
  },
  {
   "cell_type": "code",
   "execution_count": 6,
   "metadata": {},
   "outputs": [
    {
     "name": "stdout",
     "output_type": "stream",
     "text": [
      "6\n",
      "5\n"
     ]
    }
   ],
   "source": [
    "x = x ^ y\n",
    "y = x ^ y\n",
    "x = x ^ y\n",
    "print(x)\n",
    "print(y)"
   ]
  },
  {
   "cell_type": "markdown",
   "metadata": {},
   "source": [
    "<div dir=rtl>\n",
    "<b>راه‌حل چهارم:</b>\n",
    "</div>"
   ]
  },
  {
   "cell_type": "code",
   "execution_count": 7,
   "metadata": {},
   "outputs": [
    {
     "name": "stdout",
     "output_type": "stream",
     "text": [
      "5\n",
      "6\n"
     ]
    }
   ],
   "source": [
    "x = 5\n",
    "y = 6\n",
    "print(x)\n",
    "print(y)"
   ]
  },
  {
   "cell_type": "code",
   "execution_count": 8,
   "metadata": {},
   "outputs": [
    {
     "name": "stdout",
     "output_type": "stream",
     "text": [
      "6\n",
      "5\n"
     ]
    }
   ],
   "source": [
    "x, y = y, x\n",
    "print(x)\n",
    "print(y)"
   ]
  },
  {
   "cell_type": "markdown",
   "metadata": {},
   "source": [
    "<div dir=rtl>\n",
    "<b>سوال:</b>\n",
    "برنامه‌ای بنویسید که چک کند آیا یک رشته با معوکس‌اش برابر است یا خیر\n",
    "</div>\n",
    "<div dir=rtl>\n",
    "<b>پاسخ:</b>\n",
    "    برای حل این مسئله از اندیس‌ها استفاده می‌کنیم.\n",
    "</div>"
   ]
  },
  {
   "cell_type": "code",
   "execution_count": 9,
   "metadata": {},
   "outputs": [
    {
     "name": "stdout",
     "output_type": "stream",
     "text": [
      "Alireza\n",
      "Madam\n"
     ]
    }
   ],
   "source": [
    "name1 = \"Alireza\"\n",
    "name2 = \"Madam\"\n",
    "print(name1)\n",
    "print(name2)"
   ]
  },
  {
   "cell_type": "code",
   "execution_count": 10,
   "metadata": {},
   "outputs": [
    {
     "name": "stdout",
     "output_type": "stream",
     "text": [
      "Alireza is not a palindrome\n",
      "Madam is a palindrome\n"
     ]
    }
   ],
   "source": [
    "name1_lo = name1.lower()\n",
    "name2_lo = name2.lower()\n",
    "if name1_lo == name1_lo[::-1]:\n",
    "    print(f\"{name1} is a palindrome\")\n",
    "else:\n",
    "    print(f\"{name1} is not a palindrome\")\n",
    "if name2_lo == name2_lo[::-1]:\n",
    "    print(f\"{name2} is a palindrome\")\n",
    "else:\n",
    "    print(f\"{name2} is not a palindrome\")"
   ]
  }
 ],
 "metadata": {
  "kernelspec": {
   "display_name": "Python 3",
   "language": "python",
   "name": "python3"
  },
  "language_info": {
   "codemirror_mode": {
    "name": "ipython",
    "version": 3
   },
   "file_extension": ".py",
   "mimetype": "text/x-python",
   "name": "python",
   "nbconvert_exporter": "python",
   "pygments_lexer": "ipython3",
   "version": "3.7.3"
  }
 },
 "nbformat": 4,
 "nbformat_minor": 4
}
